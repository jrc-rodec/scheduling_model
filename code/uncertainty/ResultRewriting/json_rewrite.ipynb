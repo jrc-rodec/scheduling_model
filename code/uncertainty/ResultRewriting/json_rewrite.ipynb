{
 "cells": [
  {
   "cell_type": "code",
   "execution_count": 3,
   "metadata": {},
   "outputs": [],
   "source": [
    "import json\n",
    "import os"
   ]
  },
  {
   "cell_type": "code",
   "execution_count": 4,
   "metadata": {},
   "outputs": [],
   "source": [
    "path = r'C:\\Users\\huda\\Documents\\benchmark_upload\\results\\ga_results'\n",
    "files = os.listdir(path)\n",
    "out_suffix = '_results.json'"
   ]
  },
  {
   "cell_type": "code",
   "execution_count": 27,
   "metadata": {},
   "outputs": [],
   "source": [
    "def find_best(results):\n",
    "    best = None\n",
    "    for result in results:\n",
    "        if not best:\n",
    "            best = result\n",
    "        else:\n",
    "            if result['Result']['Best'][0]['Fitness']['Makespan'] < best['Result']['Best'][0]['Fitness']['Makespan']:\n",
    "                best = result\n",
    "    return result\n",
    "out_data = []\n",
    "for file in files:\n",
    "    with open(path + '\\\\' + file, 'r') as f:\n",
    "        content = f.read()\n",
    "        data = json.loads(content)\n",
    "        best = find_best(data['results'])\n",
    "        out_data.append({'instance': file[:-5], 'fitness': best['Result']['Best'][0]['Fitness']['Makespan'], 'sequence': best['Result']['Best'][0]['Sequence'], 'machines': best['Result']['Best'][0]['Assignments'], 'worker': best['Result']['Best'][0]['Workers']})"
   ]
  },
  {
   "cell_type": "code",
   "execution_count": 32,
   "metadata": {},
   "outputs": [],
   "source": [
    "with open('ga'+out_suffix, 'a') as f:\n",
    "    f.write('{\"results\":')\n",
    "    json.dump(out_data, f)\n",
    "    f.write('}')"
   ]
  },
  {
   "cell_type": "code",
   "execution_count": 5,
   "metadata": {},
   "outputs": [],
   "source": [
    "path = r'C:\\Users\\huda\\Documents\\benchmark_upload\\results\\solver_result'\n",
    "files = os.listdir(path)"
   ]
  },
  {
   "cell_type": "code",
   "execution_count": 17,
   "metadata": {},
   "outputs": [],
   "source": [
    "import pandas as pd\n",
    "def read_file(file):\n",
    "    results = []\n",
    "    \n",
    "    file_content = pd.read_csv(file, names=['name','optimization_status','fitness_value','lower_bound', 'runtime', 'result_vector1', 'result_vector2', 'result_vector3', 'peak_cpu', 'peak_ram', 'resource_history', 'best_result_history'], sep=';')\n",
    "    df = pd.DataFrame(file_content)\n",
    "    name = file.split('\\\\')[-1][8:-4]\n",
    "    for index, row in df.iterrows():\n",
    "        if row['name'].startswith('Error'):\n",
    "            continue\n",
    "        results.append({\n",
    "            'instance': row['name'],\n",
    "            'fitness': row['fitness_value'],\n",
    "            'sequence': row['result_vector1'],\n",
    "            'machines': row['result_vector2'],\n",
    "            'worker': row['result_vector3']\n",
    "        })\n",
    "    return results\n",
    "\n",
    "for file in files:\n",
    "    solver = file[8:-4]\n",
    "    content = read_file(path + '\\\\' + file)\n",
    "    with open(solver + out_suffix, 'a') as f:\n",
    "        f.write('{\"results\":')\n",
    "        json.dump(content, f)\n",
    "        f.write('}')"
   ]
  }
 ],
 "metadata": {
  "kernelspec": {
   "display_name": "Python 3",
   "language": "python",
   "name": "python3"
  },
  "language_info": {
   "codemirror_mode": {
    "name": "ipython",
    "version": 3
   },
   "file_extension": ".py",
   "mimetype": "text/x-python",
   "name": "python",
   "nbconvert_exporter": "python",
   "pygments_lexer": "ipython3",
   "version": "3.10.3"
  }
 },
 "nbformat": 4,
 "nbformat_minor": 2
}
