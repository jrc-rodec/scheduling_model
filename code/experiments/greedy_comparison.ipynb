{
 "cells": [
  {
   "cell_type": "code",
   "execution_count": 17,
   "metadata": {},
   "outputs": [],
   "source": [
    "import random"
   ]
  },
  {
   "cell_type": "code",
   "execution_count": 18,
   "metadata": {},
   "outputs": [],
   "source": [
    "job_sequence = [0,0,0,1,1,2,2,2,3,3,3,3,4,4,4,5,5]\n",
    "jobs = set(job_sequence)\n",
    "machines = [0, 1, 2, 3]\n",
    "durations = [\n",
    "    [5,10,0,0],\n",
    "    [0,5,10,0],\n",
    "    [0,0,5,10],\n",
    "    [0,2,10,5],\n",
    "    [0,10,5,15],\n",
    "    [10,5,3,0],\n",
    "    [5,10,0,0],\n",
    "    [0,5,10,3],\n",
    "    [3,0,5,10],\n",
    "    [0,1,10,5],\n",
    "    [0,1,5,10],\n",
    "    [0,5,10,2],\n",
    "    [5,10,20,0],\n",
    "    [20,5,10,0],\n",
    "    [0,4,5,10],\n",
    "    [0,4,10,5],\n",
    "    [3,10,5,0]\n",
    "]\n",
    "# sequence: [1, 3, 3, 3, 3, 2, 5, 5, 4, 4, 4, 1, 0, 2, 2, 0, 0]\n",
    "# machines: [0, 1, 2, 1, 2, 2, 0, 3, 0, 1, 1, 3, 0, 1, 1, 1, 0]"
   ]
  },
  {
   "cell_type": "code",
   "execution_count": 19,
   "metadata": {},
   "outputs": [],
   "source": [
    "def to_index(job, operation, job_sequence):\n",
    "    counter = -1\n",
    "    index = 0\n",
    "    for i in job_sequence:\n",
    "        if i == job:\n",
    "            counter += 1\n",
    "        if counter == operation:\n",
    "            return index\n",
    "        index += 1\n",
    "    return None\n",
    "\n",
    "def determine_next_fjssp(next_operation, durations, job_sequence, counts):\n",
    "    next_durations = [0] * len(next_operation)\n",
    "    min_index = float('inf')\n",
    "    min_duration = float('inf')\n",
    "    machine = [float('inf')] * len(next_operation)\n",
    "    min_machine = float('inf')\n",
    "    for i in range(len(next_operation)):\n",
    "        if next_operation[i] >= counts[i]:\n",
    "            continue\n",
    "        index = to_index(i, next_operation[i], job_sequence)\n",
    "        operation_durations = durations[index]\n",
    "        # for FJSSP, use this, for FJSSP-W, extract workers\n",
    "        next_durations[i] = float('inf')\n",
    "        for j in range(len(operation_durations)):\n",
    "            if operation_durations[j] > 0 and operation_durations[j] < next_durations[i]:\n",
    "                next_durations[i] = operation_durations[j]\n",
    "                machine[i] = j\n",
    "            elif operation_durations[j] > 0 and operation_durations[j] == next_durations[i] and random.random() < 0.5:\n",
    "                next_durations[i] = operation_durations[j]\n",
    "                machine[i] = j\n",
    "    for i in range(len(next_durations)):\n",
    "        if next_durations[i] > 0:\n",
    "            if next_durations[i] < min_duration:\n",
    "                min_duration = next_durations[i]\n",
    "                min_machine = machine[i]\n",
    "                min_index = i\n",
    "            elif next_durations[i] == min_duration and random.random() < 0.5:\n",
    "                min_duration = next_durations[i]\n",
    "                min_machine = machine[i]\n",
    "                min_index = i\n",
    "    return min_index, min_duration, min_machine\n",
    "\n"
   ]
  },
  {
   "cell_type": "code",
   "execution_count": 20,
   "metadata": {},
   "outputs": [],
   "source": [
    "import random\n",
    "next_operation = []\n",
    "for i in jobs:\n",
    "    next_operation.append(0)\n",
    "\n",
    "sequence = [float('inf')] * len(durations)\n",
    "machines = [float('inf')] * len(durations)\n",
    "counts = [job_sequence.count(job) for job in jobs]\n",
    "for i in range(len(job_sequence)):\n",
    "    index, duration, machine = determine_next_fjssp(next_operation, durations, job_sequence, counts)\n",
    "    machines[to_index(index, next_operation[index], job_sequence)] = machine\n",
    "    next_operation[index] += 1\n",
    "    sequence[i] = index"
   ]
  },
  {
   "cell_type": "code",
   "execution_count": 21,
   "metadata": {},
   "outputs": [
    {
     "data": {
      "text/plain": [
       "[1, 2, 3, 3, 3, 3, 5, 5, 1, 2, 2, 0, 0, 0, 4, 4, 4]"
      ]
     },
     "execution_count": 21,
     "metadata": {},
     "output_type": "execute_result"
    }
   ],
   "source": [
    "sequence"
   ]
  },
  {
   "cell_type": "code",
   "execution_count": 22,
   "metadata": {},
   "outputs": [
    {
     "data": {
      "text/plain": [
       "[0, 1, 2, 1, 2, 2, 0, 3, 0, 1, 1, 3, 0, 1, 1, 1, 0]"
      ]
     },
     "execution_count": 22,
     "metadata": {},
     "output_type": "execute_result"
    }
   ],
   "source": [
    "machines"
   ]
  },
  {
   "cell_type": "code",
   "execution_count": 23,
   "metadata": {},
   "outputs": [
    {
     "data": {
      "text/plain": [
       "[0, 0, 0, 1, 1, 2, 2, 2, 3, 3, 3, 3, 4, 4, 4, 5, 5]"
      ]
     },
     "execution_count": 23,
     "metadata": {},
     "output_type": "execute_result"
    }
   ],
   "source": [
    "sorted(sequence)"
   ]
  },
  {
   "cell_type": "code",
   "execution_count": 24,
   "metadata": {},
   "outputs": [
    {
     "data": {
      "text/plain": [
       "[0, 0, 0, 1, 1, 2, 2, 2, 3, 3, 3, 3, 4, 4, 4, 5, 5]"
      ]
     },
     "execution_count": 24,
     "metadata": {},
     "output_type": "execute_result"
    }
   ],
   "source": [
    "job_sequence"
   ]
  },
  {
   "cell_type": "code",
   "execution_count": 25,
   "metadata": {},
   "outputs": [],
   "source": [
    "job_sequence = [0,0,0,1,1,2,2,2,3,3,3,3,4,4,4,5,5]\n",
    "jobs = set(job_sequence)\n",
    "machines = [0, 1, 2, 3]\n",
    "durations = [\n",
    "    [[5,10,0,0] ,[5,10,2,0]   ],\n",
    "    [[0,5,10,0] ,[0,15,10,0]   ],\n",
    "    [[0,0,5,10] ,[0,0,25,10]   ],\n",
    "    [[0,2,10,5] ,[0,22,10,5]   ],\n",
    "    [[0,10,5,15],[3,10,5,15]   ],\n",
    "    [[10,5,3,0] ,[10,5,32,0]   ],\n",
    "    [[5,10,0,0] ,[5,10,0,0]   ],\n",
    "    [[0,5,10,3] ,[0,5,10,31]   ],\n",
    "    [[3,0,5,10] ,[35,0,5,10]   ],\n",
    "    [[0,1,10,5] ,[0,11,10,5]   ],\n",
    "    [[0,1,5,10] ,[0,17,5,10]   ],\n",
    "    [[0,5,10,2] ,[0,5,10,0]   ],\n",
    "    [[5,10,20,0],[0,10,20,0]  ],\n",
    "    [[20,5,10,0],[20,51,10,0]   ],\n",
    "    [[0,4,5,10] ,[0,14,5,10]   ],\n",
    "    [[0,4,10,5] ,[0,14,10,5]   ],\n",
    "    [[3,10,5,0] ,[31,10,5,0]   ]\n",
    "]\n",
    "# sequence: [0, 1, 3, 3, 3, 3, 1, 2, 5, 5, 0, 4, 4, 4, 2, 2, 0]\n",
    "# machines: [1, 0, 0, 0, 1, 0, 0, 0, 0, 0, 0, 0, 0, 0, 0, 0, 0]\n",
    "# workers: [2, 1, 2, 1, 0, 2, 0, 3, 0, 1, 1, 3, 0, 1, 1, 1, 0]"
   ]
  },
  {
   "cell_type": "code",
   "execution_count": 26,
   "metadata": {},
   "outputs": [],
   "source": [
    "def determine_next_fjssp_w(next_operation, durations, job_sequence, counts):\n",
    "    next_durations = [0] * len(next_operation)\n",
    "    machine = [float('inf')] * len(next_operation)\n",
    "    worker = [float('inf')] * len(next_operation)\n",
    "    min_index = float('inf')\n",
    "    min_duration = float('inf')\n",
    "\n",
    "    for i in range(len(next_operation)):\n",
    "        if next_operation[i] >= counts[i]:\n",
    "            continue\n",
    "        index = to_index(i, next_operation[i], job_sequence)\n",
    "        operation_durations = durations[index]\n",
    "\n",
    "        next_durations[i] = float('inf')\n",
    "        for j in range(len(operation_durations)):\n",
    "            for k in range(len(operation_durations[j])):\n",
    "                if operation_durations[j][k] > 0 and operation_durations[j][k] < next_durations[i]:\n",
    "                    next_durations[i] = operation_durations[j][k]\n",
    "                    machine[i] = j\n",
    "                    worker[i] = k\n",
    "                elif operation_durations[j][k] > 0 and operation_durations[j][k] == next_durations[i] and random.random() < 0.5:\n",
    "                    next_durations[i] = operation_durations[j][k]\n",
    "                    machine[i] = j\n",
    "                    worker[i] = k\n",
    "    for i in range(len(next_durations)):\n",
    "        if next_durations[i] > 0:\n",
    "            if next_durations[i] < min_duration:\n",
    "                min_duration = next_durations[i]\n",
    "                min_index = i\n",
    "            elif next_durations[i] == min_duration and random.random() < 0.5:\n",
    "                min_duration = next_durations[i]\n",
    "                min_index = i\n",
    "    return min_index, min_duration, machine[min_index], worker[min_index]"
   ]
  },
  {
   "cell_type": "code",
   "execution_count": 27,
   "metadata": {},
   "outputs": [],
   "source": [
    "next_operation = []\n",
    "for i in jobs:\n",
    "    next_operation.append(0)\n",
    "\n",
    "sequence = [float('inf')] * len(durations)\n",
    "machines = [float('inf')] * len(durations)\n",
    "workers = [float('inf')] * len(durations)\n",
    "counts = [job_sequence.count(job) for job in jobs]\n",
    "for i in range(len(job_sequence)):\n",
    "    index, duration, machine, worker = determine_next_fjssp_w(next_operation, durations, job_sequence, counts)\n",
    "    machines[to_index(index, next_operation[index], job_sequence)] = machine\n",
    "    workers[to_index(index, next_operation[index], job_sequence)] = worker\n",
    "    sequence[i] = index\n",
    "    next_operation[index] += 1"
   ]
  },
  {
   "cell_type": "code",
   "execution_count": 28,
   "metadata": {},
   "outputs": [
    {
     "data": {
      "text/plain": [
       "[0, 1, 2, 1, 3, 3, 3, 3, 5, 5, 2, 2, 4, 0, 4, 4, 0]"
      ]
     },
     "execution_count": 28,
     "metadata": {},
     "output_type": "execute_result"
    }
   ],
   "source": [
    "sequence"
   ]
  },
  {
   "cell_type": "code",
   "execution_count": 29,
   "metadata": {},
   "outputs": [
    {
     "data": {
      "text/plain": [
       "[1, 0, 0, 0, 1, 0, 1, 0, 0, 0, 0, 0, 0, 0, 0, 0, 0]"
      ]
     },
     "execution_count": 29,
     "metadata": {},
     "output_type": "execute_result"
    }
   ],
   "source": [
    "machines"
   ]
  },
  {
   "cell_type": "code",
   "execution_count": 30,
   "metadata": {},
   "outputs": [
    {
     "data": {
      "text/plain": [
       "[2, 1, 2, 1, 0, 2, 0, 3, 0, 1, 1, 3, 0, 1, 1, 1, 0]"
      ]
     },
     "execution_count": 30,
     "metadata": {},
     "output_type": "execute_result"
    }
   ],
   "source": [
    "workers"
   ]
  },
  {
   "cell_type": "code",
   "execution_count": 31,
   "metadata": {},
   "outputs": [
    {
     "ename": "ImportError",
     "evalue": "attempted relative import with no known parent package",
     "output_type": "error",
     "traceback": [
      "\u001b[0;31m---------------------------------------------------------------------------\u001b[0m",
      "\u001b[0;31mImportError\u001b[0m                               Traceback (most recent call last)",
      "Cell \u001b[0;32mIn[31], line 1\u001b[0m\n\u001b[0;32m----> 1\u001b[0m \u001b[38;5;28;01mfrom\u001b[39;00m\u001b[38;5;250m \u001b[39m\u001b[38;5;21;01m.\u001b[39;00m\u001b[38;5;21;01m.\u001b[39;00m\u001b[38;5;21;01mupgrades\u001b[39;00m\u001b[38;5;21;01m.\u001b[39;00m\u001b[38;5;21;01mcode\u001b[39;00m\u001b[38;5;21;01m.\u001b[39;00m\u001b[38;5;21;01mgreedy_solver\u001b[39;00m\u001b[38;5;250m \u001b[39m\u001b[38;5;28;01mimport\u001b[39;00m GreedyFJSSPSolver, GreedyFJSSPWSolver\n\u001b[1;32m      2\u001b[0m job_sequence \u001b[38;5;241m=\u001b[39m [\u001b[38;5;241m0\u001b[39m,\u001b[38;5;241m0\u001b[39m,\u001b[38;5;241m0\u001b[39m,\u001b[38;5;241m1\u001b[39m,\u001b[38;5;241m1\u001b[39m,\u001b[38;5;241m2\u001b[39m,\u001b[38;5;241m2\u001b[39m,\u001b[38;5;241m2\u001b[39m,\u001b[38;5;241m3\u001b[39m,\u001b[38;5;241m3\u001b[39m,\u001b[38;5;241m3\u001b[39m,\u001b[38;5;241m3\u001b[39m,\u001b[38;5;241m4\u001b[39m,\u001b[38;5;241m4\u001b[39m,\u001b[38;5;241m4\u001b[39m,\u001b[38;5;241m5\u001b[39m,\u001b[38;5;241m5\u001b[39m]\n\u001b[1;32m      3\u001b[0m jobs \u001b[38;5;241m=\u001b[39m \u001b[38;5;28mset\u001b[39m(job_sequence)\n",
      "\u001b[0;31mImportError\u001b[0m: attempted relative import with no known parent package"
     ]
    }
   ],
   "source": [
    "from ..upgrades.code.greedy_solver import GreedyFJSSPSolver, GreedyFJSSPWSolver\n",
    "job_sequence = [0,0,0,1,1,2,2,2,3,3,3,3,4,4,4,5,5]\n",
    "jobs = set(job_sequence)\n",
    "machines = [0, 1, 2, 3]\n",
    "durations = [\n",
    "    [5,10,0,0],\n",
    "    [0,5,10,0],\n",
    "    [0,0,5,10],\n",
    "    [0,2,10,5],\n",
    "    [0,10,5,15],\n",
    "    [10,5,3,0],\n",
    "    [5,10,0,0],\n",
    "    [0,5,10,3],\n",
    "    [3,0,5,10],\n",
    "    [0,1,10,5],\n",
    "    [0,1,5,10],\n",
    "    [0,5,10,2],\n",
    "    [5,10,20,0],\n",
    "    [20,5,10,0],\n",
    "    [0,4,5,10],\n",
    "    [0,4,10,5],\n",
    "    [3,10,5,0]\n",
    "]\n",
    "fjssp_solver = GreedyFJSSPSolver(durations, job_sequence)\n",
    "sequence, machines = fjssp_solver.solve()"
   ]
  }
 ],
 "metadata": {
  "kernelspec": {
   "display_name": "Python 3",
   "language": "python",
   "name": "python3"
  },
  "language_info": {
   "codemirror_mode": {
    "name": "ipython",
    "version": 3
   },
   "file_extension": ".py",
   "mimetype": "text/x-python",
   "name": "python",
   "nbconvert_exporter": "python",
   "pygments_lexer": "ipython3",
   "version": "3.10.3"
  }
 },
 "nbformat": 4,
 "nbformat_minor": 2
}
