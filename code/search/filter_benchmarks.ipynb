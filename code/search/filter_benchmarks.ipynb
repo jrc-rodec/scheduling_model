{
 "cells": [
  {
   "cell_type": "code",
   "execution_count": 146,
   "metadata": {},
   "outputs": [],
   "source": [
    "import csv\n",
    "import os"
   ]
  },
  {
   "cell_type": "code",
   "execution_count": 147,
   "metadata": {},
   "outputs": [],
   "source": [
    "fjssp_w = r'\\FJSSP-W\\data.csv'\n",
    "fjssp = r'\\FJSSP\\data.csv'\n"
   ]
  },
  {
   "cell_type": "markdown",
   "metadata": {},
   "source": [
    "Select Problem"
   ]
  },
  {
   "cell_type": "code",
   "execution_count": 148,
   "metadata": {},
   "outputs": [],
   "source": [
    "path = os.getcwd() + fjssp_w\n",
    "#path = fjssp"
   ]
  },
  {
   "cell_type": "markdown",
   "metadata": {},
   "source": [
    "Read Data"
   ]
  },
  {
   "cell_type": "code",
   "execution_count": 149,
   "metadata": {},
   "outputs": [],
   "source": [
    "data = []\n",
    "with open(path, 'r', newline='') as f:\n",
    "    reader = csv.reader(f)\n",
    "    for row in reader:\n",
    "        data.append(row)"
   ]
  },
  {
   "cell_type": "code",
   "execution_count": 150,
   "metadata": {},
   "outputs": [],
   "source": [
    "header = data[0]\n",
    "data = data[1:]"
   ]
  },
  {
   "cell_type": "code",
   "execution_count": 151,
   "metadata": {},
   "outputs": [],
   "source": [
    "def filter(bounds : dict):\n",
    "    count = dict()\n",
    "    for bound in bounds:\n",
    "        index = header.index(bound)\n",
    "        if index == 0: # filter by source\n",
    "            for instance in data:\n",
    "                for source in bounds[bound]:\n",
    "                    if source.lower() in instance[index].lower():\n",
    "                        if instance[0] not in count:\n",
    "                            count[instance[0]] = 0\n",
    "                        count[instance[0]] += 1\n",
    "        else:\n",
    "            lb = bounds[bound][0]\n",
    "            ub = bounds[bound][1]\n",
    "            for instance in data:\n",
    "                if float(instance[index]) >= lb and float(instance[index]) <= ub:\n",
    "                    if instance[0] not in count:\n",
    "                        count[instance[0]] = 0\n",
    "                    count[instance[0]] += 1\n",
    "    result = [instance for instance in count if count[instance] == len(bounds)] # check if the instance fits all set bounds\n",
    "    return result"
   ]
  },
  {
   "cell_type": "markdown",
   "metadata": {},
   "source": [
    "Available Attributes"
   ]
  },
  {
   "cell_type": "code",
   "execution_count": 152,
   "metadata": {},
   "outputs": [
    {
     "name": "stdout",
     "output_type": "stream",
     "text": [
      "source, n_operations, flexibility, duration_variety, n_machines, n_jobs, average_operations_per_job, d_max, d_min, d_distinct, d_unique, d_shared, d_average, n_worker\n"
     ]
    }
   ],
   "source": [
    "print(', '.join(header))"
   ]
  },
  {
   "cell_type": "code",
   "execution_count": 153,
   "metadata": {},
   "outputs": [],
   "source": [
    "# filter format: <attribute name>: (lower bound, upper bound)\n",
    "example_filter = {\n",
    "    'n_operations': (10, 50),\n",
    "    'flexibility': (0.1, 0.2)\n",
    "}"
   ]
  },
  {
   "cell_type": "code",
   "execution_count": 154,
   "metadata": {},
   "outputs": [],
   "source": [
    "filtered_instances = filter(example_filter)"
   ]
  },
  {
   "cell_type": "code",
   "execution_count": 155,
   "metadata": {},
   "outputs": [
    {
     "data": {
      "text/plain": [
       "35"
      ]
     },
     "execution_count": 155,
     "metadata": {},
     "output_type": "execute_result"
    }
   ],
   "source": [
    "len(filtered_instances)"
   ]
  },
  {
   "cell_type": "code",
   "execution_count": 156,
   "metadata": {},
   "outputs": [],
   "source": [
    "example_filter = {\n",
    "    'n_operations': (50, 100),\n",
    "    'duration_variety': (0.01, 0.02),\n",
    "    'flexibility': (0.0, 0.5),\n",
    "    'n_jobs': (5, 10)\n",
    "}"
   ]
  },
  {
   "cell_type": "code",
   "execution_count": 157,
   "metadata": {},
   "outputs": [],
   "source": [
    "filtered_instances = filter(example_filter)"
   ]
  },
  {
   "cell_type": "code",
   "execution_count": 158,
   "metadata": {},
   "outputs": [
    {
     "data": {
      "text/plain": [
       "3"
      ]
     },
     "execution_count": 158,
     "metadata": {},
     "output_type": "execute_result"
    }
   ],
   "source": [
    "len(filtered_instances)"
   ]
  },
  {
   "cell_type": "code",
   "execution_count": 159,
   "metadata": {},
   "outputs": [
    {
     "data": {
      "text/plain": [
       "['BrandimarteMk1', 'Hurink_vdata_44', 'Hurink_vdata_63']"
      ]
     },
     "execution_count": 159,
     "metadata": {},
     "output_type": "execute_result"
    }
   ],
   "source": [
    "filtered_instances"
   ]
  },
  {
   "cell_type": "code",
   "execution_count": 160,
   "metadata": {},
   "outputs": [],
   "source": [
    "# filter format exception: source: list of (partial) source names\n",
    "example_filter = {\n",
    "    'source': ['behnke', 'fattahi'],\n",
    "    'n_operations': (20, 100),\n",
    "    'n_jobs': (5, 10)\n",
    "}"
   ]
  },
  {
   "cell_type": "code",
   "execution_count": 161,
   "metadata": {},
   "outputs": [],
   "source": [
    "filtered_instances = filter(example_filter)"
   ]
  },
  {
   "cell_type": "code",
   "execution_count": 162,
   "metadata": {},
   "outputs": [
    {
     "data": {
      "text/plain": [
       "20"
      ]
     },
     "execution_count": 162,
     "metadata": {},
     "output_type": "execute_result"
    }
   ],
   "source": [
    "len(filtered_instances)"
   ]
  },
  {
   "cell_type": "code",
   "execution_count": 163,
   "metadata": {},
   "outputs": [
    {
     "data": {
      "text/plain": [
       "['Behnke1',\n",
       " 'Behnke21',\n",
       " 'Behnke22',\n",
       " 'Behnke23',\n",
       " 'Behnke24',\n",
       " 'Behnke25',\n",
       " 'Behnke2',\n",
       " 'Behnke3',\n",
       " 'Behnke41',\n",
       " 'Behnke42',\n",
       " 'Behnke43',\n",
       " 'Behnke44',\n",
       " 'Behnke45',\n",
       " 'Behnke4',\n",
       " 'Behnke5',\n",
       " 'Fattahi14',\n",
       " 'Fattahi15',\n",
       " 'Fattahi16',\n",
       " 'Fattahi17',\n",
       " 'Fattahi18']"
      ]
     },
     "execution_count": 163,
     "metadata": {},
     "output_type": "execute_result"
    }
   ],
   "source": [
    "filtered_instances"
   ]
  },
  {
   "cell_type": "code",
   "execution_count": 164,
   "metadata": {},
   "outputs": [
    {
     "data": {
      "text/plain": [
       "402"
      ]
     },
     "execution_count": 164,
     "metadata": {},
     "output_type": "execute_result"
    }
   ],
   "source": [
    "len(data)"
   ]
  }
 ],
 "metadata": {
  "kernelspec": {
   "display_name": "Python 3",
   "language": "python",
   "name": "python3"
  },
  "language_info": {
   "codemirror_mode": {
    "name": "ipython",
    "version": 3
   },
   "file_extension": ".py",
   "mimetype": "text/x-python",
   "name": "python",
   "nbconvert_exporter": "python",
   "pygments_lexer": "ipython3",
   "version": "3.10.3"
  }
 },
 "nbformat": 4,
 "nbformat_minor": 2
}
