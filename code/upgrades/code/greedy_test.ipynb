{
 "cells": [
  {
   "cell_type": "code",
   "execution_count": 37,
   "metadata": {},
   "outputs": [],
   "source": [
    "from greedy_solver import GreedyFJSSPSolver, GreedyFJSSPWSolver\n"
   ]
  },
  {
   "cell_type": "code",
   "execution_count": 38,
   "metadata": {},
   "outputs": [],
   "source": [
    "job_sequence = [0,0,0,1,1,2,2,2,3,3,3,3,4,4,4,5,5]\n",
    "jobs = set(job_sequence)\n",
    "machines = [0, 1, 2, 3]\n",
    "durations = [\n",
    "    [5,10,0,0],\n",
    "    [0,5,10,0],\n",
    "    [0,0,5,10],\n",
    "    [0,2,10,5],\n",
    "    [0,10,5,15],\n",
    "    [10,5,3,0],\n",
    "    [5,10,0,0],\n",
    "    [0,5,10,3],\n",
    "    [3,0,5,10],\n",
    "    [0,1,10,5],\n",
    "    [0,1,5,10],\n",
    "    [0,5,10,2],\n",
    "    [5,10,20,0],\n",
    "    [20,5,10,0],\n",
    "    [0,4,5,10],\n",
    "    [0,4,10,5],\n",
    "    [3,10,5,0]\n",
    "]\n",
    "fjssp_solver = GreedyFJSSPSolver(durations, job_sequence)\n",
    "sequence, machines = fjssp_solver.solve()"
   ]
  },
  {
   "cell_type": "code",
   "execution_count": 39,
   "metadata": {},
   "outputs": [
    {
     "data": {
      "text/plain": [
       "[1, 2, 3, 3, 3, 3, 5, 5, 0, 4, 0, 2, 2, 1, 0, 4, 4]"
      ]
     },
     "execution_count": 39,
     "metadata": {},
     "output_type": "execute_result"
    }
   ],
   "source": [
    "sequence"
   ]
  },
  {
   "cell_type": "code",
   "execution_count": 40,
   "metadata": {},
   "outputs": [],
   "source": [
    "job_sequence = [0,0,0,1,1,2,2,2,3,3,3,3,4,4,4,5,5]\n",
    "jobs = set(job_sequence)\n",
    "machines = [0, 1, 2, 3]\n",
    "durations = [\n",
    "    [[5,10,0,0] ,[5,10,2,0]   ],\n",
    "    [[0,5,10,0] ,[0,15,10,0]   ],\n",
    "    [[0,0,5,10] ,[0,0,25,10]   ],\n",
    "    [[0,2,10,5] ,[0,22,10,5]   ],\n",
    "    [[0,10,5,15],[3,10,5,15]   ],\n",
    "    [[10,5,3,0] ,[10,5,32,0]   ],\n",
    "    [[5,10,0,0] ,[5,10,0,0]   ],\n",
    "    [[0,5,10,3] ,[0,5,10,31]   ],\n",
    "    [[3,0,5,10] ,[35,0,5,10]   ],\n",
    "    [[0,1,10,5] ,[0,11,10,5]   ],\n",
    "    [[0,1,5,10] ,[0,17,5,10]   ],\n",
    "    [[0,5,10,2] ,[0,5,10,0]   ],\n",
    "    [[5,10,20,0],[0,10,20,0]  ],\n",
    "    [[20,5,10,0],[20,51,10,0]   ],\n",
    "    [[0,4,5,10] ,[0,14,5,10]   ],\n",
    "    [[0,4,10,5] ,[0,14,10,5]   ],\n",
    "    [[3,10,5,0] ,[31,10,5,0]   ]\n",
    "]\n",
    "fjssp_w_solver = GreedyFJSSPWSolver(durations, job_sequence)\n",
    "sequence, machines, workers = fjssp_w_solver.solve()"
   ]
  },
  {
   "cell_type": "code",
   "execution_count": 41,
   "metadata": {},
   "outputs": [
    {
     "data": {
      "text/plain": [
       "[1, 0, 3, 3, 3, 3, 2, 1, 5, 5, 4, 2, 2, 0, 4, 4, 0]"
      ]
     },
     "execution_count": 41,
     "metadata": {},
     "output_type": "execute_result"
    }
   ],
   "source": [
    "sequence"
   ]
  },
  {
   "cell_type": "code",
   "execution_count": 42,
   "metadata": {},
   "outputs": [],
   "source": [
    "from benchmark_parser import WorkerBenchmarkParser\n",
    "parser = WorkerBenchmarkParser()\n",
    "encoding = parser.parse_benchmark(r'C:\\Users\\huda\\Documents\\GitHub\\scheduling_model_jrc\\code\\upgrades\\benchmarks_with_workers\\6_Fattahi_20_workers.fjs')"
   ]
  },
  {
   "cell_type": "code",
   "execution_count": 43,
   "metadata": {},
   "outputs": [],
   "source": [
    "solver = GreedyFJSSPWSolver(encoding.durations(), encoding.job_sequence())\n",
    "s, m, w = solver.solve()"
   ]
  },
  {
   "cell_type": "code",
   "execution_count": null,
   "metadata": {},
   "outputs": [],
   "source": [
    "import numpy as np\n",
    "\n",
    "def makespan(start_times : list[int], machine_assignments : list[int], worker_assignments : list[int], durations : list[list[list[int]]]) -> float:\n",
    "    # NOTE: assume first operation to start at t = 0\n",
    "    return np.max([start_times[i] + durations[i][machine_assignments[i]][worker_assignments[i]] for i in range(len(start_times))])\n",
    "\n",
    "def workload_balance(machine_assignments : list[int], worker_assignments : list[int], durations : list[list[list[int]]]) -> float:\n",
    "    n_workers = max(worker_assignments)\n",
    "    working_time = [0] * n_workers\n",
    "    for i in range(len(worker_assignments)):\n",
    "        working_time[worker_assignments[i]] += durations[i][machine_assignments[i]][worker_assignments[i]]\n",
    "    mean_working_time = np.mean(working_time)\n",
    "    result = 0.0\n",
    "    for i in range(len(working_time)):\n",
    "        result += np.pow((mean_working_time - working_time), 2)\n",
    "    return result\n",
    "\n",
    "def translate(sequence : list[int], machines : list[int], workers : list[int], durations : list[list[list[int]]]) -> tuple[list[int], list[int], list[int]]:\n",
    "    \n",
    "    class TimeSlot:\n",
    "        def __init__(self) -> None:\n",
    "            self.start = 0\n",
    "            self.end = 0\n",
    "\n",
    "        def __init__(self, start : int, end : int) -> None:\n",
    "            self.start = start\n",
    "            self.end = end\n",
    "\n",
    "        def overlaps(self, other) -> bool:\n",
    "            return self.contains(other.start) or self.contains(other.end) or other.contains(self.start) or other.contains(self.end)\n",
    "\n",
    "        def contains(self, time : int) -> bool:\n",
    "            return time >= self.start and time <= self.end\n",
    "    \n",
    "    def get_start_index(job : int, job_sequence : list[int]) -> int:\n",
    "        for i in range(len(job_sequence)):\n",
    "            if job_sequence[i] == job:\n",
    "                return i\n",
    "        return None\n",
    "\n",
    "    def earliest_fit(times : list[TimeSlot], slot : TimeSlot) -> TimeSlot:\n",
    "        for i in range(1, len(times)):\n",
    "            if times[i-1].end >= slot.start and times[i].start >= slot.end:\n",
    "                return times[i-1]\n",
    "        return times[-1]\n",
    "\n",
    "    job_sequence = sorted(sequence)\n",
    "    jobs = set(job_sequence)\n",
    "    start_indices = [get_start_index(job, job_sequence) for job in sorted(list(jobs))]\n",
    "    n_operations = len(durations)\n",
    "    n_machines = len(durations[0])\n",
    "    n_workers = len(durations[0][0])\n",
    "    next_operation : list[int] = [0] * len(jobs)\n",
    "    end_on_machines : list[TimeSlot] = [[TimeSlot(0, 0)] for _ in range(n_machines)]\n",
    "    end_of_workers : list[TimeSlot] = [[TimeSlot(0, 0)] for _ in range(n_workers)]\n",
    "    start_times : list[int] = [0] * n_operations\n",
    "    end_times : list[int] = [0] * n_operations\n",
    "    for i in range(n_operations):\n",
    "        job = sequence[i]\n",
    "        operation = next_operation[job]\n",
    "        next_operation[job] += 1\n",
    "        start_index = start_indices[job] + operation\n",
    "        machine = machines[i]\n",
    "        worker = workers[i]\n",
    "        duration = durations[i][machine][worker]\n",
    "        if duration == 0:\n",
    "            raise Exception(\"Invalid solution\")\n",
    "        offset = 0\n",
    "        if operation > 0:\n",
    "            if end_times[start_index - 1] > offset:\n",
    "                offset = end_times[start_index - 1]\n",
    "        if len(end_on_machines[machine]) > 0 and end_on_machines[machine][-1].end >= offset:\n",
    "            offset = end_on_machines[machine][-1].end\n",
    "        if len(end_of_workers[worker]) > 0:\n",
    "            worker_earliest : TimeSlot = earliest_fit(end_of_workers[worker], TimeSlot(offset, offset + duration))\n",
    "            if worker_earliest.end >= offset:\n",
    "                offset = worker_earliest.end\n",
    "        start_times[start_index] = offset\n",
    "        end_times[start_index] = offset + duration\n",
    "        end_on_machines[machine].append(TimeSlot(offset, offset + duration))\n",
    "        end_of_workers[worker].append(TimeSlot(offset, offset + duration))\n",
    "        end_on_machines[machine].sort(key=lambda x: x.start) # should be sorted anyway\n",
    "        end_of_workers[worker].sort(key=lambda x: x.start)\n",
    "    return start_times, machines, workers"
   ]
  },
  {
   "cell_type": "code",
   "execution_count": 45,
   "metadata": {},
   "outputs": [],
   "source": [
    "start_times, machines, workers = translate(s, m, w, encoding.durations())"
   ]
  },
  {
   "cell_type": "code",
   "execution_count": 46,
   "metadata": {},
   "outputs": [
    {
     "data": {
      "text/plain": [
       "np.int64(4437)"
      ]
     },
     "execution_count": 46,
     "metadata": {},
     "output_type": "execute_result"
    }
   ],
   "source": [
    "makespan(start_times, machines, workers, encoding.durations())"
   ]
  }
 ],
 "metadata": {
  "kernelspec": {
   "display_name": "Python 3",
   "language": "python",
   "name": "python3"
  },
  "language_info": {
   "codemirror_mode": {
    "name": "ipython",
    "version": 3
   },
   "file_extension": ".py",
   "mimetype": "text/x-python",
   "name": "python",
   "nbconvert_exporter": "python",
   "pygments_lexer": "ipython3",
   "version": "3.11.1"
  }
 },
 "nbformat": 4,
 "nbformat_minor": 2
}
