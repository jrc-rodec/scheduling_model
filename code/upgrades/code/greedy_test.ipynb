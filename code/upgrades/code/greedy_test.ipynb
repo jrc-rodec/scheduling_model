{
 "cells": [
  {
   "cell_type": "code",
   "execution_count": 12,
   "metadata": {},
   "outputs": [],
   "source": [
    "from greedy_solver import GreedyFJSSPSolver, GreedyFJSSPWSolver\n",
    "from benchmark_parser import WorkerBenchmarkParser"
   ]
  },
  {
   "cell_type": "code",
   "execution_count": 13,
   "metadata": {},
   "outputs": [],
   "source": [
    "job_sequence = [0,0,0,1,1,2,2,2,3,3,3,3,4,4,4,5,5]\n",
    "jobs = set(job_sequence)\n",
    "machines = [0, 1, 2, 3]\n",
    "durations = [\n",
    "    [5,10,0,0],\n",
    "    [0,5,10,0],\n",
    "    [0,0,5,10],\n",
    "    [0,2,10,5],\n",
    "    [0,10,5,15],\n",
    "    [10,5,3,0],\n",
    "    [5,10,0,0],\n",
    "    [0,5,10,3],\n",
    "    [3,0,5,10],\n",
    "    [0,1,10,5],\n",
    "    [0,1,5,10],\n",
    "    [0,5,10,2],\n",
    "    [5,10,20,0],\n",
    "    [20,5,10,0],\n",
    "    [0,4,5,10],\n",
    "    [0,4,10,5],\n",
    "    [3,10,5,0]\n",
    "]\n",
    "fjssp_solver = GreedyFJSSPSolver(durations, job_sequence)\n",
    "sequence, machines = fjssp_solver.solve()"
   ]
  },
  {
   "cell_type": "code",
   "execution_count": 14,
   "metadata": {},
   "outputs": [
    {
     "data": {
      "text/plain": [
       "[1, 2, 3, 3, 3, 3, 5, 5, 4, 1, 2, 2, 0, 0, 4, 4, 0]"
      ]
     },
     "execution_count": 14,
     "metadata": {},
     "output_type": "execute_result"
    }
   ],
   "source": [
    "sequence"
   ]
  },
  {
   "cell_type": "code",
   "execution_count": 15,
   "metadata": {},
   "outputs": [],
   "source": [
    "job_sequence = [0,0,0,1,1,2,2,2,3,3,3,3,4,4,4,5,5]\n",
    "jobs = set(job_sequence)\n",
    "machines = [0, 1, 2, 3]\n",
    "durations = [\n",
    "    [[5,10,0,0] ,[5,10,2,0]   ],\n",
    "    [[0,5,10,0] ,[0,15,10,0]   ],\n",
    "    [[0,0,5,10] ,[0,0,25,10]   ],\n",
    "    [[0,2,10,5] ,[0,22,10,5]   ],\n",
    "    [[0,10,5,15],[3,10,5,15]   ],\n",
    "    [[10,5,3,0] ,[10,5,32,0]   ],\n",
    "    [[5,10,0,0] ,[5,10,0,0]   ],\n",
    "    [[0,5,10,3] ,[0,5,10,31]   ],\n",
    "    [[3,0,5,10] ,[35,0,5,10]   ],\n",
    "    [[0,1,10,5] ,[0,11,10,5]   ],\n",
    "    [[0,1,5,10] ,[0,17,5,10]   ],\n",
    "    [[0,5,10,2] ,[0,5,10,0]   ],\n",
    "    [[5,10,20,0],[0,10,20,0]  ],\n",
    "    [[20,5,10,0],[20,51,10,0]   ],\n",
    "    [[0,4,5,10] ,[0,14,5,10]   ],\n",
    "    [[0,4,10,5] ,[0,14,10,5]   ],\n",
    "    [[3,10,5,0] ,[31,10,5,0]   ]\n",
    "]\n",
    "fjssp_w_solver = GreedyFJSSPWSolver(durations, job_sequence)\n",
    "sequence, machines, workers = fjssp_w_solver.solve()"
   ]
  },
  {
   "cell_type": "code",
   "execution_count": 16,
   "metadata": {},
   "outputs": [
    {
     "data": {
      "text/plain": [
       "[0, 1, 3, 3, 3, 3, 1, 2, 5, 5, 2, 2, 0, 4, 4, 4, 0]"
      ]
     },
     "execution_count": 16,
     "metadata": {},
     "output_type": "execute_result"
    }
   ],
   "source": [
    "sequence"
   ]
  },
  {
   "cell_type": "code",
   "execution_count": 17,
   "metadata": {},
   "outputs": [],
   "source": [
    "from benchmark_parser import WorkerBenchmarkParser\n",
    "parser = WorkerBenchmarkParser()\n",
    "encoding = parser.parse_benchmark(r'C:\\Users\\huda\\Documents\\GitHub\\scheduling_model_jrc\\code\\upgrades\\benchmarks_with_workers\\6_Fattahi_20_workers.fjs')"
   ]
  },
  {
   "cell_type": "code",
   "execution_count": 18,
   "metadata": {},
   "outputs": [],
   "source": [
    "solver = GreedyFJSSPWSolver(encoding.durations(), encoding.job_sequence())\n",
    "s, m, w = solver.solve()"
   ]
  },
  {
   "cell_type": "code",
   "execution_count": 19,
   "metadata": {},
   "outputs": [],
   "source": [
    "import numpy as np\n",
    "\n",
    "def makespan(start_times : list[int], machine_assignments : list[int], worker_assignments : list[int], durations : list[list[list[int]]]) -> float:\n",
    "    # NOTE: assume first operation to start at t = 0\n",
    "    return np.max([start_times[i] + durations[i][machine_assignments[i]][worker_assignments[i]] for i in range(len(start_times))])\n",
    "\n",
    "def workload_balance(machine_assignments : list[int], worker_assignments : list[int], durations : list[list[list[int]]]) -> float:\n",
    "    n_workers = max(worker_assignments)\n",
    "    working_time = [0] * n_workers\n",
    "    for i in range(len(worker_assignments)):\n",
    "        working_time[worker_assignments[i]] += durations[i][machine_assignments[i]][worker_assignments[i]]\n",
    "    mean_working_time = np.mean(working_time)\n",
    "    result = 0.0\n",
    "    for i in range(len(working_time)):\n",
    "        result += np.pow((mean_working_time - working_time), 2)\n",
    "    return result\n",
    "\n",
    "def translate(sequence : list[int], machines : list[int], workers : list[int], durations : list[list[list[int]]]) -> tuple[list[int], list[int], list[int]]:\n",
    "    \n",
    "    class TimeSlot:\n",
    "        def __init__(self) -> None:\n",
    "            self.start = 0\n",
    "            self.end = 0\n",
    "\n",
    "        def __init__(self, start : int, end : int) -> None:\n",
    "            self.start = start\n",
    "            self.end = end\n",
    "\n",
    "        def overlaps(self, other) -> bool:\n",
    "            return self.contains(other.start) or self.contains(other.end) or other.contains(self.start) or other.contains(self.end)\n",
    "\n",
    "        def contains(self, time : int) -> bool:\n",
    "            return time >= self.start and time <= self.end\n",
    "    \n",
    "    def get_start_index(job : int, job_sequence : list[int]) -> int:\n",
    "        for i in range(len(job_sequence)):\n",
    "            if job_sequence[i] == job:\n",
    "                return i\n",
    "        return None\n",
    "\n",
    "    def earliest_fit(times : list[TimeSlot], slot : TimeSlot) -> TimeSlot:\n",
    "        for i in range(1, len(times)):\n",
    "            if times[i-1].end >= slot.start and times[i].start >= slot.end:\n",
    "                return times[i-1]\n",
    "        return times[-1]\n",
    "\n",
    "    job_sequence = sorted(sequence)\n",
    "    jobs = set(job_sequence)\n",
    "    start_indices = [get_start_index(job, job_sequence) for job in sorted(list(jobs))]\n",
    "    n_operations = len(durations)\n",
    "    n_machines = len(durations[0])\n",
    "    n_workers = len(durations[0][0])\n",
    "    next_operation : list[int] = [0] * len(jobs)\n",
    "    end_on_machines : list[TimeSlot] = [[TimeSlot(0, 0)] for _ in range(n_machines)]\n",
    "    end_of_workers : list[TimeSlot] = [[TimeSlot(0, 0)] for _ in range(n_workers)]\n",
    "    start_times : list[int] = [0] * n_operations\n",
    "    end_times : list[int] = [0] * n_operations\n",
    "    for i in range(n_operations):\n",
    "        job = sequence[i]\n",
    "        operation = next_operation[job]\n",
    "        next_operation[job] += 1\n",
    "        start_index = start_indices[job] + operation\n",
    "        machine = machines[i]\n",
    "        worker = workers[i]\n",
    "        duration = durations[i][machine][worker]\n",
    "        if duration == 0:\n",
    "            raise Exception(\"Invalid solution\")\n",
    "        offset = 0\n",
    "        if operation > 0:\n",
    "            if end_times[start_index - 1] > offset:\n",
    "                offset = end_times[start_index - 1]\n",
    "        if len(end_on_machines[machine]) > 0 and end_on_machines[machine][-1].end >= offset:\n",
    "            offset = end_on_machines[machine][-1].end\n",
    "        if len(end_of_workers[worker]) > 0:\n",
    "            worker_earliest : TimeSlot = earliest_fit(end_of_workers[worker], TimeSlot(offset, offset + duration))\n",
    "            if worker_earliest.end >= offset:\n",
    "                offset = worker_earliest.end\n",
    "        start_times[start_index] = offset\n",
    "        end_times[start_index] = offset + duration\n",
    "        end_on_machines[machine].append(TimeSlot(offset, offset + duration))\n",
    "        end_of_workers[worker].append(TimeSlot(offset, offset + duration))\n",
    "        end_on_machines[machine].sort(key=lambda x: x.start) # should be sorted anyway\n",
    "        end_of_workers[worker].sort(key=lambda x: x.start)\n",
    "    return start_times, machines, workers"
   ]
  },
  {
   "cell_type": "code",
   "execution_count": 20,
   "metadata": {},
   "outputs": [],
   "source": [
    "start_times, machines, workers = translate(s, m, w, encoding.durations())"
   ]
  },
  {
   "cell_type": "code",
   "execution_count": 21,
   "metadata": {},
   "outputs": [
    {
     "data": {
      "text/plain": [
       "np.int64(4281)"
      ]
     },
     "execution_count": 21,
     "metadata": {},
     "output_type": "execute_result"
    }
   ],
   "source": [
    "makespan(start_times, machines, workers, encoding.durations())"
   ]
  },
  {
   "cell_type": "code",
   "execution_count": 22,
   "metadata": {},
   "outputs": [
    {
     "name": "stdout",
     "output_type": "stream",
     "text": [
      "1- Solving: 0_BehnkeGeiger_10_workers.fjs\n",
      "2- Solving: 0_BehnkeGeiger_11_workers.fjs\n",
      "3- Solving: 0_BehnkeGeiger_12_workers.fjs\n",
      "4- Solving: 0_BehnkeGeiger_13_workers.fjs\n",
      "5- Solving: 0_BehnkeGeiger_14_workers.fjs\n",
      "6- Solving: 0_BehnkeGeiger_15_workers.fjs\n",
      "7- Solving: 0_BehnkeGeiger_16_workers.fjs\n",
      "8- Solving: 0_BehnkeGeiger_17_workers.fjs\n",
      "9- Solving: 0_BehnkeGeiger_18_workers.fjs\n",
      "10- Solving: 0_BehnkeGeiger_19_workers.fjs\n",
      "11- Solving: 0_BehnkeGeiger_1_workers.fjs\n",
      "12- Solving: 0_BehnkeGeiger_20_workers.fjs\n",
      "13- Solving: 0_BehnkeGeiger_21_workers.fjs\n",
      "14- Solving: 0_BehnkeGeiger_22_workers.fjs\n",
      "15- Solving: 0_BehnkeGeiger_23_workers.fjs\n",
      "16- Solving: 0_BehnkeGeiger_24_workers.fjs\n",
      "17- Solving: 0_BehnkeGeiger_25_workers.fjs\n",
      "18- Solving: 0_BehnkeGeiger_26_workers.fjs\n",
      "19- Solving: 0_BehnkeGeiger_27_workers.fjs\n",
      "20- Solving: 0_BehnkeGeiger_28_workers.fjs\n",
      "21- Solving: 0_BehnkeGeiger_29_workers.fjs\n",
      "22- Solving: 0_BehnkeGeiger_2_workers.fjs\n",
      "23- Solving: 0_BehnkeGeiger_30_workers.fjs\n",
      "24- Solving: 0_BehnkeGeiger_31_workers.fjs\n",
      "25- Solving: 0_BehnkeGeiger_32_workers.fjs\n",
      "26- Solving: 0_BehnkeGeiger_33_workers.fjs\n",
      "27- Solving: 0_BehnkeGeiger_34_workers.fjs\n",
      "28- Solving: 0_BehnkeGeiger_35_workers.fjs\n",
      "29- Solving: 0_BehnkeGeiger_36_workers.fjs\n"
     ]
    },
    {
     "ename": "KeyboardInterrupt",
     "evalue": "",
     "output_type": "error",
     "traceback": [
      "\u001b[1;31m---------------------------------------------------------------------------\u001b[0m",
      "\u001b[1;31mKeyboardInterrupt\u001b[0m                         Traceback (most recent call last)",
      "Cell \u001b[1;32mIn[22], line 13\u001b[0m\n\u001b[0;32m     11\u001b[0m \u001b[38;5;28mprint\u001b[39m(\u001b[38;5;124mf\u001b[39m\u001b[38;5;124m'\u001b[39m\u001b[38;5;132;01m{\u001b[39;00m\u001b[38;5;28mlen\u001b[39m(results)\u001b[38;5;241m+\u001b[39m\u001b[38;5;241m1\u001b[39m\u001b[38;5;132;01m}\u001b[39;00m\u001b[38;5;124m- Solving: \u001b[39m\u001b[38;5;132;01m{\u001b[39;00minstance\u001b[38;5;132;01m}\u001b[39;00m\u001b[38;5;124m'\u001b[39m)\n\u001b[0;32m     12\u001b[0m solver \u001b[38;5;241m=\u001b[39m GreedyFJSSPWSolver(encoding\u001b[38;5;241m.\u001b[39mdurations(), encoding\u001b[38;5;241m.\u001b[39mjob_sequence())\n\u001b[1;32m---> 13\u001b[0m s, m, w \u001b[38;5;241m=\u001b[39m \u001b[43msolver\u001b[49m\u001b[38;5;241;43m.\u001b[39;49m\u001b[43msolve\u001b[49m\u001b[43m(\u001b[49m\u001b[43m)\u001b[49m\n\u001b[0;32m     14\u001b[0m start_times, machines, workers \u001b[38;5;241m=\u001b[39m translate(s, m, w, encoding\u001b[38;5;241m.\u001b[39mdurations())\n\u001b[0;32m     15\u001b[0m c \u001b[38;5;241m=\u001b[39m makespan(start_times, machines, workers, encoding\u001b[38;5;241m.\u001b[39mdurations())\n",
      "File \u001b[1;32mc:\\Users\\huda\\Documents\\GitHub\\scheduling_model_jrc\\code\\upgrades\\code\\greedy_solver.py:124\u001b[0m, in \u001b[0;36mGreedyFJSSPWSolver.solve\u001b[1;34m(self)\u001b[0m\n\u001b[0;32m    122\u001b[0m counts \u001b[38;5;241m=\u001b[39m [\u001b[38;5;28mself\u001b[39m\u001b[38;5;241m.\u001b[39mjob_sequence\u001b[38;5;241m.\u001b[39mcount(job) \u001b[38;5;28;01mfor\u001b[39;00m job \u001b[38;5;129;01min\u001b[39;00m jobs]\n\u001b[0;32m    123\u001b[0m \u001b[38;5;28;01mfor\u001b[39;00m i \u001b[38;5;129;01min\u001b[39;00m \u001b[38;5;28mrange\u001b[39m(\u001b[38;5;28mlen\u001b[39m(\u001b[38;5;28mself\u001b[39m\u001b[38;5;241m.\u001b[39mjob_sequence)):\n\u001b[1;32m--> 124\u001b[0m     index, duration, machine, worker \u001b[38;5;241m=\u001b[39m \u001b[38;5;28;43mself\u001b[39;49m\u001b[38;5;241;43m.\u001b[39;49m\u001b[43mdetermine_next\u001b[49m\u001b[43m(\u001b[49m\u001b[43mnext_operation\u001b[49m\u001b[43m)\u001b[49m\n\u001b[0;32m    125\u001b[0m     machines[to_index(index, next_operation[index], \u001b[38;5;28mself\u001b[39m\u001b[38;5;241m.\u001b[39mjob_sequence)] \u001b[38;5;241m=\u001b[39m machine\n\u001b[0;32m    126\u001b[0m     workers[to_index(index, next_operation[index], \u001b[38;5;28mself\u001b[39m\u001b[38;5;241m.\u001b[39mjob_sequence)] \u001b[38;5;241m=\u001b[39m worker\n",
      "File \u001b[1;32mc:\\Users\\huda\\Documents\\GitHub\\scheduling_model_jrc\\code\\upgrades\\code\\greedy_solver.py:99\u001b[0m, in \u001b[0;36mGreedyFJSSPWSolver.determine_next\u001b[1;34m(self, next_operation)\u001b[0m\n\u001b[0;32m     97\u001b[0m     machine[i] \u001b[38;5;241m=\u001b[39m j\n\u001b[0;32m     98\u001b[0m     worker[i] \u001b[38;5;241m=\u001b[39m k\n\u001b[1;32m---> 99\u001b[0m \u001b[38;5;28;01melif\u001b[39;00m operation_durations[j][k] \u001b[38;5;241m>\u001b[39m \u001b[38;5;241m0\u001b[39m \u001b[38;5;129;01mand\u001b[39;00m operation_durations[j][k] \u001b[38;5;241m==\u001b[39m next_durations[i] \u001b[38;5;129;01mand\u001b[39;00m \u001b[43mrandom\u001b[49m\u001b[38;5;241;43m.\u001b[39;49m\u001b[43mrandom\u001b[49m\u001b[43m(\u001b[49m\u001b[43m)\u001b[49m \u001b[38;5;241m<\u001b[39m \u001b[38;5;241m0.5\u001b[39m:\n\u001b[0;32m    100\u001b[0m     next_durations[i] \u001b[38;5;241m=\u001b[39m operation_durations[j][k]\n\u001b[0;32m    101\u001b[0m     machine[i] \u001b[38;5;241m=\u001b[39m j\n",
      "\u001b[1;31mKeyboardInterrupt\u001b[0m: "
     ]
    }
   ],
   "source": [
    "import os\n",
    "base_path = r'C:\\Users\\huda\\Documents\\GitHub\\scheduling_model_jrc\\code\\upgrades\\benchmarks_with_workers\\\\'\n",
    "#base_path = r'/home/dhu/Downloads/benchmarks_with_workers/'\n",
    "out_path = r'C:\\Users\\huda\\Desktop\\experiments\\greedy\\greedy_results.txt'\n",
    "#out_path = r'/home/dhu/Downloads/greedy_results/greedy_results.txt'\n",
    "instances = os.listdir(base_path)\n",
    "results = []\n",
    "for instance in instances:\n",
    "    parser = WorkerBenchmarkParser()\n",
    "    encoding = parser.parse_benchmark(f'{base_path}{instance}')\n",
    "    print(f'{len(results)+1}- Solving: {instance}')\n",
    "    solver = GreedyFJSSPWSolver(encoding.durations(), encoding.job_sequence())\n",
    "    s, m, w = solver.solve()\n",
    "    start_times, machines, workers = translate(s, m, w, encoding.durations())\n",
    "    c = makespan(start_times, machines, workers, encoding.durations())\n",
    "    results.append(f'{instance};{c};{s};{m};{w}\\n')\n",
    "with open(out_path, 'a') as f:\n",
    "    f.writelines(results)"
   ]
  }
 ],
 "metadata": {
  "kernelspec": {
   "display_name": "Python 3",
   "language": "python",
   "name": "python3"
  },
  "language_info": {
   "codemirror_mode": {
    "name": "ipython",
    "version": 3
   },
   "file_extension": ".py",
   "mimetype": "text/x-python",
   "name": "python",
   "nbconvert_exporter": "python",
   "pygments_lexer": "ipython3",
   "version": "3.11.1"
  }
 },
 "nbformat": 4,
 "nbformat_minor": 2
}
