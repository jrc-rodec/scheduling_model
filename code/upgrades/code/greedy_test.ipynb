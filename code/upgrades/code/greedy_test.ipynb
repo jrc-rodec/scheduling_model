{
 "cells": [
  {
   "cell_type": "code",
   "execution_count": 6,
   "metadata": {},
   "outputs": [],
   "source": [
    "from greedy_solver import GreedyFJSSPSolver, GreedyFJSSPWSolver\n"
   ]
  },
  {
   "cell_type": "code",
   "execution_count": 7,
   "metadata": {},
   "outputs": [],
   "source": [
    "job_sequence = [0,0,0,1,1,2,2,2,3,3,3,3,4,4,4,5,5]\n",
    "jobs = set(job_sequence)\n",
    "machines = [0, 1, 2, 3]\n",
    "durations = [\n",
    "    [5,10,0,0],\n",
    "    [0,5,10,0],\n",
    "    [0,0,5,10],\n",
    "    [0,2,10,5],\n",
    "    [0,10,5,15],\n",
    "    [10,5,3,0],\n",
    "    [5,10,0,0],\n",
    "    [0,5,10,3],\n",
    "    [3,0,5,10],\n",
    "    [0,1,10,5],\n",
    "    [0,1,5,10],\n",
    "    [0,5,10,2],\n",
    "    [5,10,20,0],\n",
    "    [20,5,10,0],\n",
    "    [0,4,5,10],\n",
    "    [0,4,10,5],\n",
    "    [3,10,5,0]\n",
    "]\n",
    "fjssp_solver = GreedyFJSSPSolver(durations, job_sequence)\n",
    "sequence, machines = fjssp_solver.solve()"
   ]
  },
  {
   "cell_type": "code",
   "execution_count": 8,
   "metadata": {},
   "outputs": [
    {
     "data": {
      "text/plain": [
       "[1, 2, 3, 3, 3, 3, 5, 5, 1, 4, 4, 4, 2, 2, 0, 0, 0]"
      ]
     },
     "execution_count": 8,
     "metadata": {},
     "output_type": "execute_result"
    }
   ],
   "source": [
    "sequence"
   ]
  },
  {
   "cell_type": "code",
   "execution_count": 10,
   "metadata": {},
   "outputs": [],
   "source": [
    "job_sequence = [0,0,0,1,1,2,2,2,3,3,3,3,4,4,4,5,5]\n",
    "jobs = set(job_sequence)\n",
    "machines = [0, 1, 2, 3]\n",
    "durations = [\n",
    "    [[5,10,0,0] ,[5,10,2,0]   ],\n",
    "    [[0,5,10,0] ,[0,15,10,0]   ],\n",
    "    [[0,0,5,10] ,[0,0,25,10]   ],\n",
    "    [[0,2,10,5] ,[0,22,10,5]   ],\n",
    "    [[0,10,5,15],[3,10,5,15]   ],\n",
    "    [[10,5,3,0] ,[10,5,32,0]   ],\n",
    "    [[5,10,0,0] ,[5,10,0,0]   ],\n",
    "    [[0,5,10,3] ,[0,5,10,31]   ],\n",
    "    [[3,0,5,10] ,[35,0,5,10]   ],\n",
    "    [[0,1,10,5] ,[0,11,10,5]   ],\n",
    "    [[0,1,5,10] ,[0,17,5,10]   ],\n",
    "    [[0,5,10,2] ,[0,5,10,0]   ],\n",
    "    [[5,10,20,0],[0,10,20,0]  ],\n",
    "    [[20,5,10,0],[20,51,10,0]   ],\n",
    "    [[0,4,5,10] ,[0,14,5,10]   ],\n",
    "    [[0,4,10,5] ,[0,14,10,5]   ],\n",
    "    [[3,10,5,0] ,[31,10,5,0]   ]\n",
    "]\n",
    "fjssp_w_solver = GreedyFJSSPWSolver(durations, job_sequence)\n",
    "sequence, machines, workers = fjssp_w_solver.solve()"
   ]
  },
  {
   "cell_type": "code",
   "execution_count": 11,
   "metadata": {},
   "outputs": [
    {
     "data": {
      "text/plain": [
       "[1, 0, 2, 3, 3, 3, 3, 1, 5, 5, 4, 2, 2, 4, 4, 0, 0]"
      ]
     },
     "execution_count": 11,
     "metadata": {},
     "output_type": "execute_result"
    }
   ],
   "source": [
    "sequence"
   ]
  }
 ],
 "metadata": {
  "kernelspec": {
   "display_name": ".venv",
   "language": "python",
   "name": "python3"
  },
  "language_info": {
   "codemirror_mode": {
    "name": "ipython",
    "version": 3
   },
   "file_extension": ".py",
   "mimetype": "text/x-python",
   "name": "python",
   "nbconvert_exporter": "python",
   "pygments_lexer": "ipython3",
   "version": "3.12.3"
  }
 },
 "nbformat": 4,
 "nbformat_minor": 2
}
