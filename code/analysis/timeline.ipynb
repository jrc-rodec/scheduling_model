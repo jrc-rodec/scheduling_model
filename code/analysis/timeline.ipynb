{
 "cells": [
  {
   "cell_type": "code",
   "execution_count": null,
   "metadata": {
    "vscode": {
     "languageId": "plaintext"
    }
   },
   "outputs": [],
   "source": [
    "# normalize Fitness: L (upper bound) - Best Known (Lower Bound)\n",
    "# normalize LB: Theoretical Minimum (lower bound) - Best Known (Upper Bound)\n",
    "# average over all instances\n",
    "# plot LB + Fitness"
   ]
  }
 ],
 "metadata": {
  "language_info": {
   "name": "python"
  }
 },
 "nbformat": 4,
 "nbformat_minor": 2
}
