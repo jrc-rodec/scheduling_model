{
 "cells": [
  {
   "cell_type": "code",
   "execution_count": 33,
   "metadata": {},
   "outputs": [],
   "source": [
    "import os\n",
    "import itertools\n",
    "from benchmarkrewriter.benchmark_parser import BenchmarkParser, WorkerBenchmarkParser, WorkerEncoding\n",
    "import json\n",
    "import pandas as pd\n",
    "import math"
   ]
  },
  {
   "cell_type": "code",
   "execution_count": 34,
   "metadata": {},
   "outputs": [],
   "source": [
    "results_path = r'C:\\Users\\huda\\Downloads\\results\\\\'\n",
    "ga_path = r'C:\\Users\\huda\\Downloads\\ga_worker_results\\results.json'\n",
    "benchmark_path = r'C:\\Users\\huda\\Documents\\GitHub\\scheduling_model_jrc\\code\\upgrades\\benchmarks_with_workers'"
   ]
  },
  {
   "cell_type": "code",
   "execution_count": 35,
   "metadata": {},
   "outputs": [],
   "source": [
    "def worker_flexibility(benchmark : WorkerEncoding):\n",
    "    n_assignments = 0\n",
    "    m = benchmark.n_machines()\n",
    "    o = benchmark.n_operations()\n",
    "    durations = benchmark.durations()\n",
    "    w = durations.shape[2]\n",
    "    combs = dict()\n",
    "    for i in range(len(durations)):\n",
    "        for j in range(len(durations[i])):\n",
    "            for k in range(len(durations[i][j])):\n",
    "                if durations[i][j][k] > 0:\n",
    "                    n_assignments += 1\n",
    "                combs[(j,k)] = 1\n",
    "    average_assignments = n_assignments / o\n",
    "    return average_assignments / len(combs)"
   ]
  },
  {
   "cell_type": "code",
   "execution_count": 36,
   "metadata": {},
   "outputs": [],
   "source": [
    "def get_flexibility_and_dv_worker(benchmark):\n",
    "    all = 0\n",
    "    unique = []\n",
    "    machines_available = 0\n",
    "    durations = benchmark.durations()\n",
    "    for i in range(len(durations)):\n",
    "        for j in range(len(durations[i])):\n",
    "            for k in range(len(durations[i][j])):\n",
    "                if durations[i][j][k] > 0:\n",
    "                    if durations[i][j][k] not in unique:\n",
    "                        unique.append(durations[i][j][k])\n",
    "                    all += 1\n",
    "            if any([x > 0 for x in durations[i][j]]):\n",
    "                machines_available+=1\n",
    "    return worker_flexibility(benchmark), len(unique) / all"
   ]
  },
  {
   "cell_type": "code",
   "execution_count": 37,
   "metadata": {},
   "outputs": [],
   "source": [
    "def get_max(durations):\n",
    "    max = 0\n",
    "    for operation in durations:\n",
    "        for machine in operation:\n",
    "            for worker in machine:\n",
    "                if worker > max:\n",
    "                    max = worker\n",
    "    return max\n",
    "\n",
    "def read_benchmarks_workers(path):\n",
    "    result = dict()\n",
    "    benchmarks = os.listdir(path)\n",
    "    for benchmark in benchmarks:\n",
    "        #parser = BenchmarkParser()\n",
    "        parser = WorkerBenchmarkParser()\n",
    "        data = parser.parse_benchmark(path + '/' + benchmark)\n",
    "        #f, dv = get_flexibility_and_dv(data)\n",
    "        f, dv = get_flexibility_and_dv_worker(data)\n",
    "        instance_name = remap(benchmark[2:-12])\n",
    "        metrics = dict()\n",
    "\n",
    "        max_duration = get_max(data.durations())\n",
    "        counts = [0] * (max_duration+1)\n",
    "        for operation in data.durations():\n",
    "            for machine in operation:\n",
    "                for worker in machine:\n",
    "                    if worker > 0:\n",
    "                        counts[worker] += 1\n",
    "        d_distinct = [x for x in range(len(counts)) if counts[x] > 0]\n",
    "        d_unique = [x for x in range(len(counts)) if counts[x] == 1]\n",
    "        d_shared = [x for x in range(len(counts)) if counts[x] > 1]\n",
    "        metrics['d_distinct'] = d_distinct\n",
    "        metrics['d_unique'] = d_unique\n",
    "        metrics['d_shared'] = d_shared\n",
    "        metrics['d_average'] = sum(counts)/data.n_operations()\n",
    "        result[instance_name] = {'n_operations': data.n_operations(), 'flexibility': f, 'duration_variety': dv, 'n_machines': data.n_machines(), 'additional_metrics': metrics}\n",
    "\n",
    "    return result\n",
    "\n",
    "def remap(name):\n",
    "    if name.startswith('_'):\n",
    "        name = name[1:]\n",
    "    values = name.split('_')\n",
    "    if values[0].startswith('Behnke'):\n",
    "        return 'Behnke'+values[1]\n",
    "    if values[0].startswith('Brandimarte'):\n",
    "        return 'BrandimarteMk'+values[1]\n",
    "    if values[0].startswith('Chambers'):\n",
    "        return 'ChambersBarnes'+values[1]\n",
    "    if values[0].startswith('HurinkS'):\n",
    "        return 'HurinkSdata'+values[1]\n",
    "    if values[0].startswith('HurinkE'):\n",
    "        return 'HurinkEdata'+values[1]\n",
    "    if values[0].startswith('HurinkR'):\n",
    "        return 'HurinkRdata'+values[1]\n",
    "    if values[0].startswith('HurinkV'):\n",
    "        return 'HurinkVdata'+values[1]\n",
    "    if values[0].startswith('DP'):\n",
    "        return 'DPpaulli'+values[1]\n",
    "    if values[0].startswith('Kacem'):\n",
    "        return 'Kacem'+values[1]\n",
    "    if values[0].startswith('Fattahi'):\n",
    "        return 'Fattahi'+values[1]\n",
    "    return name\n",
    "\n",
    "def read_results(path):\n",
    "    files = os.listdir(path)\n",
    "    #files = [path_to_results + r'results_ortools.txt', path_to_results +r'results_cplex_cp.txt', path_to_results +r'results_gurobi.txt', path_to_results +r'results_hexaly_rewritten.txt', path_to_results +r'results_cplex_lp_rewritten.txt']\n",
    "    all_data = dict()\n",
    "    data_as_dict = dict()\n",
    "    known_optima = dict()\n",
    "    for file in files:\n",
    "        statuses = []\n",
    "        optimal = 0\n",
    "        feasible = 0\n",
    "        infeasible = 0\n",
    "        file_content = pd.read_csv(path + file, names=['name','optimization_status','fitness_value','lower_bound', 'runtime', 'result_vector1', 'result_vector2', 'result_vector3', 'peak_cpu', 'peak_ram', 'resource_history', 'best_result_history'], sep=';')#, converters={'best_result_history': pd.eval})\n",
    "        df = pd.DataFrame(file_content)\n",
    "        name = file.split('\\\\')[-1][8:-4]\n",
    "        if name == 'hexaly_rewritten':\n",
    "            name = 'hexaly'#all_data['results_hexaly'] = df\n",
    "        elif name == 'cplex_lp_rewritten':\n",
    "            name = 'cplex_lp'#all_data['results_cplex_lp'] = df\n",
    "        all_data[name] = df\n",
    "        for index, row in df.iterrows():\n",
    "            if row['name'].startswith('Error'):\n",
    "                infeasible += 1\n",
    "                continue\n",
    "            if name not in data_as_dict:\n",
    "                data_as_dict[name] = dict()\n",
    "            instance_name = remap(row['name'][2:-12])\n",
    "            if name == 'hexaly' or not row['optimization_status'] < 0:\n",
    "                data_as_dict[name][instance_name] = row['fitness_value']\n",
    "                if row['optimization_status'] == 1.0:\n",
    "                    found = False\n",
    "                    for optima in known_optima:\n",
    "                        if optima[0] == instance_name:\n",
    "                            found = True\n",
    "                            break\n",
    "                    if not found:\n",
    "                        known_optima[instance_name] = row['fitness_value']#.append((instance_name, row['fitness_value']))\n",
    "                    optimal += 1\n",
    "                else:\n",
    "                    feasible += 1\n",
    "            else:\n",
    "                infeasible += 1\n",
    "            if row['optimization_status'] not in statuses:\n",
    "                statuses.append(row['optimization_status'])\n",
    "        print(f'{name}: {statuses} - optimal: {optimal}, feasible: {feasible}, infeasible: {infeasible}')\n",
    "    return data_as_dict, known_optima\n",
    "\n",
    "def read_ga_results(path):\n",
    "    results = dict()\n",
    "    with open(path, 'r') as f:\n",
    "        ga_data = json.loads(f.read())\n",
    "\n",
    "        results['ga_best'] = dict()\n",
    "        results['ga_average'] = dict()\n",
    "        for key in ga_data.keys():\n",
    "            results['ga_best'][remap(key[:-8])] = ga_data[key]['best']\n",
    "            results['ga_average'][remap(key[:-8])] = ga_data[key]['average']\n",
    "    return results"
   ]
  },
  {
   "cell_type": "code",
   "execution_count": 38,
   "metadata": {},
   "outputs": [],
   "source": [
    "benchmark_data = read_benchmarks_workers(benchmark_path)"
   ]
  },
  {
   "cell_type": "code",
   "execution_count": 39,
   "metadata": {},
   "outputs": [
    {
     "name": "stdout",
     "output_type": "stream",
     "text": [
      "cplex_cp: [0.0, 1.0] - optimal: 55, feasible: 347, infeasible: 2\n",
      "cplex_lp: [1.0, 0.0, -1.0] - optimal: 12, feasible: 309, infeasible: 81\n",
      "gurobi: [0.0, -1.0, 1.0] - optimal: 15, feasible: 305, infeasible: 70\n",
      "hexaly: [-1, 1] - optimal: 29, feasible: 373, infeasible: 0\n",
      "ortools: [0.0, 1.0] - optimal: 39, feasible: 358, infeasible: 5\n",
      "ga_best:[0.0, 1.0] - optimal: 28, feasible: 374, infeasible: 0\n",
      "ga_average:[0.0, 1.0] - optimal: 20, feasible: 382, infeasible: 0\n",
      "69\n",
      "{'BrandimarteMk1': 38.0, 'Hurink_sdata_1': 52.0, 'Hurink_sdata_4': 622.0, 'Hurink_sdata_8': 565.0, 'Hurink_edata_1': 51.0, 'Hurink_edata_53': 6832.0, 'Hurink_edata_5': 620.0, 'Hurink_edata_7': 538.0, 'Hurink_edata_8': 481.0, 'Hurink_rdata_19': 656.0, 'Hurink_rdata_1': 44.0, 'Hurink_rdata_45': 748, 'Hurink_rdata_55': 4170.0, 'Hurink_vdata_19': 651.0, 'Hurink_vdata_1': 44.0, 'Hurink_vdata_20': 585.0, 'Hurink_vdata_21': 602.0, 'Hurink_vdata_22': 562.0, 'Hurink_vdata_23': 686.0, 'Hurink_vdata_2': 597.0, 'Hurink_vdata_39': 854.0, 'Hurink_vdata_40': 890.0, 'Hurink_vdata_41': 849.0, 'Hurink_vdata_42': 834.0, 'Hurink_vdata_43': 861.0, 'Hurink_vdata_45': 674.0, 'Hurink_vdata_54': 5022.0, 'Hurink_vdata_55': 3939.0, 'Hurink_vdata_57': 629.0, 'Hurink_vdata_59': 588.0, 'Hurink_vdata_60': 682.0, 'Hurink_vdata_61': 531.0, 'Hurink_vdata_62': 646.0, 'Hurink_vdata_64': 523.0, 'Hurink_vdata_65': 598.0, 'Hurink_vdata_66': 614.0, 'Kacem1': 11.0, 'Kacem2': 10.0, 'Kacem3': 7.0, 'Fattahi10': 507.0, 'Fattahi11': 445.0, 'Fattahi12': 415.0, 'Fattahi13': 439.0, 'Fattahi14': 538.0, 'Fattahi15': 472.0, 'Fattahi16': 596.0, 'Fattahi1': 69.0, 'Fattahi2': 111.0, 'Fattahi3': 240.0, 'Fattahi4': 364.0, 'Fattahi5': 117.0, 'Fattahi6': 305.0, 'Fattahi7': 386.0, 'Fattahi8': 240.0, 'Fattahi9': 199.0, 'Hurink_sdata_10': 831, 'Hurink_sdata_11': 822.0, 'Hurink_sdata_12': 888, 'Hurink_sdata_13': 904, 'Hurink_sdata_14': 1145, 'Hurink_sdata_15': 995, 'Hurink_sdata_16': 1112, 'Hurink_sdata_17': 1251, 'Hurink_sdata_18': 1138, 'Hurink_sdata_34': 1647, 'Hurink_sdata_9': 867, 'Hurink_sdata_49': 6687.0, 'Hurink_sdata_52': 7493.0, 'Hurink_edata_52': 7396.0}\n"
     ]
    }
   ],
   "source": [
    "results_data, known_optima = read_results(results_path)\n",
    "ga_data = read_ga_results(ga_path)\n",
    "for key in ga_data:\n",
    "    results_data[key] = ga_data[key]\n",
    "    optimal = 0\n",
    "    feasible = 0\n",
    "    infeasible = 0 # will stay 0, obviously\n",
    "    for instance in ga_data[key]:\n",
    "        if instance in known_optima and ga_data[key][instance] == known_optima[instance]:\n",
    "            optimal += 1\n",
    "        else:\n",
    "            feasible += 1\n",
    "    print(f'{key}:[0.0, 1.0] - optimal: {optimal}, feasible: {feasible}, infeasible: {infeasible}')\n",
    "print(len(known_optima))\n",
    "print(known_optima)"
   ]
  },
  {
   "cell_type": "code",
   "execution_count": 40,
   "metadata": {},
   "outputs": [],
   "source": [
    "cp_data = results_data['cplex_cp']\n",
    "ga_data = ga_data['ga_best']\n"
   ]
  },
  {
   "cell_type": "code",
   "execution_count": 41,
   "metadata": {},
   "outputs": [
    {
     "data": {
      "text/plain": [
       "dict_keys(['Behnke10', 'Behnke11', 'Behnke12', 'Behnke13', 'Behnke14', 'Behnke15', 'Behnke16', 'Behnke17', 'Behnke18', 'Behnke19', 'Behnke1', 'Behnke20', 'Behnke21', 'Behnke22', 'Behnke23', 'Behnke24', 'Behnke25', 'Behnke26', 'Behnke27', 'Behnke28', 'Behnke29', 'Behnke2', 'Behnke30', 'Behnke31', 'Behnke32', 'Behnke33', 'Behnke34', 'Behnke35', 'Behnke36', 'Behnke37', 'Behnke38', 'Behnke39', 'Behnke3', 'Behnke40', 'Behnke41', 'Behnke42', 'Behnke43', 'Behnke44', 'Behnke45', 'Behnke46', 'Behnke47', 'Behnke48', 'Behnke49', 'Behnke4', 'Behnke50', 'Behnke51', 'Behnke52', 'Behnke53', 'Behnke54', 'Behnke55', 'Behnke56', 'Behnke57', 'Behnke58', 'Behnke59', 'Behnke5', 'Behnke60', 'Behnke6', 'Behnke7', 'Behnke8', 'Behnke9', 'BrandimarteMk11', 'BrandimarteMk12', 'BrandimarteMk13', 'BrandimarteMk14', 'BrandimarteMk15', 'BrandimarteMk1', 'BrandimarteMk2', 'BrandimarteMk3', 'BrandimarteMk4', 'BrandimarteMk5', 'BrandimarteMk6', 'BrandimarteMk7', 'BrandimarteMk9', 'Hurink_sdata_10', 'Hurink_sdata_11', 'Hurink_sdata_12', 'Hurink_sdata_13', 'Hurink_sdata_14', 'Hurink_sdata_15', 'Hurink_sdata_16', 'Hurink_sdata_17', 'Hurink_sdata_18', 'Hurink_sdata_19', 'Hurink_sdata_1', 'Hurink_sdata_20', 'Hurink_sdata_21', 'Hurink_sdata_22', 'Hurink_sdata_23', 'Hurink_sdata_24', 'Hurink_sdata_25', 'Hurink_sdata_26', 'Hurink_sdata_27', 'Hurink_sdata_28', 'Hurink_sdata_29', 'Hurink_sdata_2', 'Hurink_sdata_30', 'Hurink_sdata_31', 'Hurink_sdata_32', 'Hurink_sdata_33', 'Hurink_sdata_34', 'Hurink_sdata_35', 'Hurink_sdata_36', 'Hurink_sdata_37', 'Hurink_sdata_38', 'Hurink_sdata_39', 'Hurink_sdata_3', 'Hurink_sdata_40', 'Hurink_sdata_41', 'Hurink_sdata_42', 'Hurink_sdata_43', 'Hurink_sdata_44', 'Hurink_sdata_45', 'Hurink_sdata_46', 'Hurink_sdata_47', 'Hurink_sdata_48', 'Hurink_sdata_49', 'Hurink_sdata_4', 'Hurink_sdata_50', 'Hurink_sdata_51', 'Hurink_sdata_52', 'Hurink_sdata_53', 'Hurink_sdata_54', 'Hurink_sdata_55', 'Hurink_sdata_56', 'Hurink_sdata_57', 'Hurink_sdata_58', 'Hurink_sdata_59', 'Hurink_sdata_5', 'Hurink_sdata_60', 'Hurink_sdata_61', 'Hurink_sdata_62', 'Hurink_sdata_63', 'Hurink_sdata_64', 'Hurink_sdata_65', 'Hurink_sdata_66', 'Hurink_sdata_6', 'Hurink_sdata_7', 'Hurink_sdata_8', 'Hurink_sdata_9', 'Hurink_edata_10', 'Hurink_edata_11', 'Hurink_edata_12', 'Hurink_edata_13', 'Hurink_edata_14', 'Hurink_edata_15', 'Hurink_edata_16', 'Hurink_edata_17', 'Hurink_edata_18', 'Hurink_edata_19', 'Hurink_edata_1', 'Hurink_edata_20', 'Hurink_edata_21', 'Hurink_edata_22', 'Hurink_edata_23', 'Hurink_edata_24', 'Hurink_edata_25', 'Hurink_edata_26', 'Hurink_edata_27', 'Hurink_edata_28', 'Hurink_edata_29', 'Hurink_edata_2', 'Hurink_edata_30', 'Hurink_edata_31', 'Hurink_edata_32', 'Hurink_edata_33', 'Hurink_edata_34', 'Hurink_edata_35', 'Hurink_edata_36', 'Hurink_edata_37', 'Hurink_edata_38', 'Hurink_edata_39', 'Hurink_edata_3', 'Hurink_edata_40', 'Hurink_edata_41', 'Hurink_edata_42', 'Hurink_edata_43', 'Hurink_edata_44', 'Hurink_edata_45', 'Hurink_edata_46', 'Hurink_edata_47', 'Hurink_edata_48', 'Hurink_edata_49', 'Hurink_edata_4', 'Hurink_edata_50', 'Hurink_edata_51', 'Hurink_edata_52', 'Hurink_edata_53', 'Hurink_edata_54', 'Hurink_edata_55', 'Hurink_edata_56', 'Hurink_edata_57', 'Hurink_edata_58', 'Hurink_edata_59', 'Hurink_edata_5', 'Hurink_edata_60', 'Hurink_edata_61', 'Hurink_edata_62', 'Hurink_edata_63', 'Hurink_edata_64', 'Hurink_edata_65', 'Hurink_edata_66', 'Hurink_edata_6', 'Hurink_edata_7', 'Hurink_edata_8', 'Hurink_edata_9', 'Hurink_rdata_10', 'Hurink_rdata_11', 'Hurink_rdata_12', 'Hurink_rdata_13', 'Hurink_rdata_14', 'Hurink_rdata_15', 'Hurink_rdata_16', 'Hurink_rdata_17', 'Hurink_rdata_18', 'Hurink_rdata_19', 'Hurink_rdata_1', 'Hurink_rdata_20', 'Hurink_rdata_21', 'Hurink_rdata_22', 'Hurink_rdata_23', 'Hurink_rdata_24', 'Hurink_rdata_25', 'Hurink_rdata_26', 'Hurink_rdata_27', 'Hurink_rdata_28', 'Hurink_rdata_29', 'Hurink_rdata_2', 'Hurink_rdata_30', 'Hurink_rdata_31', 'Hurink_rdata_32', 'Hurink_rdata_33', 'Hurink_rdata_34', 'Hurink_rdata_35', 'Hurink_rdata_36', 'Hurink_rdata_37', 'Hurink_rdata_38', 'Hurink_rdata_39', 'Hurink_rdata_3', 'Hurink_rdata_40', 'Hurink_rdata_41', 'Hurink_rdata_42', 'Hurink_rdata_43', 'Hurink_rdata_44', 'Hurink_rdata_45', 'Hurink_rdata_46', 'Hurink_rdata_47', 'Hurink_rdata_48', 'Hurink_rdata_49', 'Hurink_rdata_4', 'Hurink_rdata_50', 'Hurink_rdata_51', 'Hurink_rdata_52', 'Hurink_rdata_53', 'Hurink_rdata_54', 'Hurink_rdata_55', 'Hurink_rdata_56', 'Hurink_rdata_57', 'Hurink_rdata_58', 'Hurink_rdata_59', 'Hurink_rdata_5', 'Hurink_rdata_60', 'Hurink_rdata_61', 'Hurink_rdata_62', 'Hurink_rdata_63', 'Hurink_rdata_64', 'Hurink_rdata_65', 'Hurink_rdata_66', 'Hurink_rdata_6', 'Hurink_rdata_7', 'Hurink_rdata_8', 'Hurink_rdata_9', 'Hurink_vdata_10', 'Hurink_vdata_11', 'Hurink_vdata_12', 'Hurink_vdata_13', 'Hurink_vdata_14', 'Hurink_vdata_15', 'Hurink_vdata_16', 'Hurink_vdata_17', 'Hurink_vdata_18', 'Hurink_vdata_19', 'Hurink_vdata_1', 'Hurink_vdata_20', 'Hurink_vdata_21', 'Hurink_vdata_22', 'Hurink_vdata_23', 'Hurink_vdata_24', 'Hurink_vdata_25', 'Hurink_vdata_26', 'Hurink_vdata_27', 'Hurink_vdata_28', 'Hurink_vdata_29', 'Hurink_vdata_2', 'Hurink_vdata_30', 'Hurink_vdata_31', 'Hurink_vdata_32', 'Hurink_vdata_33', 'Hurink_vdata_34', 'Hurink_vdata_35', 'Hurink_vdata_36', 'Hurink_vdata_37', 'Hurink_vdata_38', 'Hurink_vdata_39', 'Hurink_vdata_3', 'Hurink_vdata_40', 'Hurink_vdata_41', 'Hurink_vdata_42', 'Hurink_vdata_43', 'Hurink_vdata_44', 'Hurink_vdata_45', 'Hurink_vdata_46', 'Hurink_vdata_47', 'Hurink_vdata_48', 'Hurink_vdata_49', 'Hurink_vdata_4', 'Hurink_vdata_50', 'Hurink_vdata_51', 'Hurink_vdata_52', 'Hurink_vdata_53', 'Hurink_vdata_54', 'Hurink_vdata_55', 'Hurink_vdata_56', 'Hurink_vdata_57', 'Hurink_vdata_58', 'Hurink_vdata_59', 'Hurink_vdata_5', 'Hurink_vdata_60', 'Hurink_vdata_61', 'Hurink_vdata_62', 'Hurink_vdata_63', 'Hurink_vdata_64', 'Hurink_vdata_65', 'Hurink_vdata_66', 'Hurink_vdata_6', 'Hurink_vdata_7', 'Hurink_vdata_8', 'Hurink_vdata_9', 'DPpaulli10', 'DPpaulli11', 'DPpaulli12', 'DPpaulli13', 'DPpaulli14', 'DPpaulli15', 'DPpaulli16', 'DPpaulli17', 'DPpaulli18', 'DPpaulli1', 'DPpaulli2', 'DPpaulli3', 'DPpaulli4', 'DPpaulli5', 'DPpaulli6', 'DPpaulli7', 'DPpaulli8', 'DPpaulli9', 'ChambersBarnes10', 'ChambersBarnes11', 'ChambersBarnes12', 'ChambersBarnes13', 'ChambersBarnes14', 'ChambersBarnes15', 'ChambersBarnes16', 'ChambersBarnes17', 'ChambersBarnes18', 'ChambersBarnes19', 'ChambersBarnes1', 'ChambersBarnes20', 'ChambersBarnes21', 'ChambersBarnes2', 'ChambersBarnes3', 'ChambersBarnes4', 'ChambersBarnes5', 'ChambersBarnes6', 'ChambersBarnes7', 'ChambersBarnes8', 'ChambersBarnes9', 'Kacem1', 'Kacem2', 'Kacem3', 'Kacem4', 'Fattahi10', 'Fattahi11', 'Fattahi12', 'Fattahi13', 'Fattahi14', 'Fattahi15', 'Fattahi16', 'Fattahi17', 'Fattahi18', 'Fattahi19', 'Fattahi1', 'Fattahi20', 'Fattahi2', 'Fattahi3', 'Fattahi4', 'Fattahi5', 'Fattahi6', 'Fattahi7', 'Fattahi8', 'Fattahi9', 'BrandimarteMk10', 'BrandimarteMk8'])"
      ]
     },
     "execution_count": 41,
     "metadata": {},
     "output_type": "execute_result"
    }
   ],
   "source": [
    "cp_data.keys()"
   ]
  },
  {
   "cell_type": "code",
   "execution_count": 42,
   "metadata": {},
   "outputs": [
    {
     "data": {
      "text/plain": [
       "dict_keys(['Behnke10', 'Behnke11', 'Behnke12', 'Behnke13', 'Behnke14', 'Behnke15', 'Behnke16', 'Behnke17', 'Behnke18', 'Behnke19', 'Behnke1', 'Behnke20', 'Behnke21', 'Behnke22', 'Behnke23', 'Behnke24', 'Behnke25', 'Behnke26', 'Behnke27', 'Behnke28', 'Behnke29', 'Behnke2', 'Behnke30', 'Behnke31', 'Behnke32', 'Behnke33', 'Behnke34', 'Behnke35', 'Behnke36', 'Behnke37', 'Behnke38', 'Behnke39', 'Behnke3', 'Behnke40', 'Behnke41', 'Behnke42', 'Behnke43', 'Behnke44', 'Behnke45', 'Behnke46', 'Behnke47', 'Behnke48', 'Behnke49', 'Behnke4', 'Behnke50', 'Behnke51', 'Behnke52', 'Behnke53', 'Behnke54', 'Behnke55', 'Behnke56', 'Behnke57', 'Behnke58', 'Behnke59', 'Behnke5', 'Behnke60', 'Behnke6', 'Behnke7', 'Behnke8', 'Behnke9', 'BrandimarteMk10', 'BrandimarteMk11', 'BrandimarteMk12', 'BrandimarteMk13', 'BrandimarteMk14', 'BrandimarteMk15', 'BrandimarteMk1', 'BrandimarteMk2', 'BrandimarteMk3', 'BrandimarteMk4', 'BrandimarteMk5', 'BrandimarteMk6', 'BrandimarteMk7', 'BrandimarteMk8', 'BrandimarteMk9', 'Hurink_sdata_10', 'Hurink_sdata_11', 'Hurink_sdata_12', 'Hurink_sdata_13', 'Hurink_sdata_14', 'Hurink_sdata_15', 'Hurink_sdata_16', 'Hurink_sdata_17', 'Hurink_sdata_18', 'Hurink_sdata_19', 'Hurink_sdata_1', 'Hurink_sdata_20', 'Hurink_sdata_21', 'Hurink_sdata_22', 'Hurink_sdata_23', 'Hurink_sdata_24', 'Hurink_sdata_25', 'Hurink_sdata_26', 'Hurink_sdata_27', 'Hurink_sdata_28', 'Hurink_sdata_29', 'Hurink_sdata_2', 'Hurink_sdata_30', 'Hurink_sdata_31', 'Hurink_sdata_32', 'Hurink_sdata_33', 'Hurink_sdata_34', 'Hurink_sdata_35', 'Hurink_sdata_36', 'Hurink_sdata_37', 'Hurink_sdata_38', 'Hurink_sdata_39', 'Hurink_sdata_3', 'Hurink_sdata_40', 'Hurink_sdata_41', 'Hurink_sdata_42', 'Hurink_sdata_43', 'Hurink_sdata_44', 'Hurink_sdata_45', 'Hurink_sdata_46', 'Hurink_sdata_47', 'Hurink_sdata_48', 'Hurink_sdata_49', 'Hurink_sdata_4', 'Hurink_sdata_50', 'Hurink_sdata_51', 'Hurink_sdata_52', 'Hurink_sdata_53', 'Hurink_sdata_54', 'Hurink_sdata_55', 'Hurink_sdata_56', 'Hurink_sdata_57', 'Hurink_sdata_58', 'Hurink_sdata_59', 'Hurink_sdata_5', 'Hurink_sdata_60', 'Hurink_sdata_61', 'Hurink_sdata_62', 'Hurink_sdata_63', 'Hurink_sdata_64', 'Hurink_sdata_65', 'Hurink_sdata_66', 'Hurink_sdata_6', 'Hurink_sdata_7', 'Hurink_sdata_8', 'Hurink_sdata_9', 'Hurink_edata_10', 'Hurink_edata_11', 'Hurink_edata_12', 'Hurink_edata_13', 'Hurink_edata_14', 'Hurink_edata_15', 'Hurink_edata_16', 'Hurink_edata_17', 'Hurink_edata_18', 'Hurink_edata_19', 'Hurink_edata_1', 'Hurink_edata_20', 'Hurink_edata_21', 'Hurink_edata_22', 'Hurink_edata_23', 'Hurink_edata_24', 'Hurink_edata_25', 'Hurink_edata_26', 'Hurink_edata_27', 'Hurink_edata_28', 'Hurink_edata_29', 'Hurink_edata_2', 'Hurink_edata_30', 'Hurink_edata_31', 'Hurink_edata_32', 'Hurink_edata_33', 'Hurink_edata_34', 'Hurink_edata_35', 'Hurink_edata_36', 'Hurink_edata_37', 'Hurink_edata_38', 'Hurink_edata_39', 'Hurink_edata_3', 'Hurink_edata_40', 'Hurink_edata_41', 'Hurink_edata_42', 'Hurink_edata_43', 'Hurink_edata_44', 'Hurink_edata_45', 'Hurink_edata_46', 'Hurink_edata_47', 'Hurink_edata_48', 'Hurink_edata_49', 'Hurink_edata_4', 'Hurink_edata_50', 'Hurink_edata_51', 'Hurink_edata_52', 'Hurink_edata_53', 'Hurink_edata_54', 'Hurink_edata_55', 'Hurink_edata_56', 'Hurink_edata_57', 'Hurink_edata_58', 'Hurink_edata_59', 'Hurink_edata_5', 'Hurink_edata_60', 'Hurink_edata_61', 'Hurink_edata_62', 'Hurink_edata_63', 'Hurink_edata_64', 'Hurink_edata_65', 'Hurink_edata_66', 'Hurink_edata_6', 'Hurink_edata_7', 'Hurink_edata_8', 'Hurink_edata_9', 'Hurink_rdata_10', 'Hurink_rdata_11', 'Hurink_rdata_12', 'Hurink_rdata_13', 'Hurink_rdata_14', 'Hurink_rdata_15', 'Hurink_rdata_16', 'Hurink_rdata_17', 'Hurink_rdata_18', 'Hurink_rdata_19', 'Hurink_rdata_1', 'Hurink_rdata_20', 'Hurink_rdata_21', 'Hurink_rdata_22', 'Hurink_rdata_23', 'Hurink_rdata_24', 'Hurink_rdata_25', 'Hurink_rdata_26', 'Hurink_rdata_27', 'Hurink_rdata_28', 'Hurink_rdata_29', 'Hurink_rdata_2', 'Hurink_rdata_30', 'Hurink_rdata_31', 'Hurink_rdata_32', 'Hurink_rdata_33', 'Hurink_rdata_34', 'Hurink_rdata_35', 'Hurink_rdata_36', 'Hurink_rdata_37', 'Hurink_rdata_38', 'Hurink_rdata_39', 'Hurink_rdata_3', 'Hurink_rdata_40', 'Hurink_rdata_41', 'Hurink_rdata_42', 'Hurink_rdata_43', 'Hurink_rdata_44', 'Hurink_rdata_45', 'Hurink_rdata_46', 'Hurink_rdata_47', 'Hurink_rdata_48', 'Hurink_rdata_49', 'Hurink_rdata_4', 'Hurink_rdata_50', 'Hurink_rdata_51', 'Hurink_rdata_52', 'Hurink_rdata_53', 'Hurink_rdata_54', 'Hurink_rdata_55', 'Hurink_rdata_56', 'Hurink_rdata_57', 'Hurink_rdata_58', 'Hurink_rdata_59', 'Hurink_rdata_5', 'Hurink_rdata_60', 'Hurink_rdata_61', 'Hurink_rdata_62', 'Hurink_rdata_63', 'Hurink_rdata_64', 'Hurink_rdata_65', 'Hurink_rdata_66', 'Hurink_rdata_6', 'Hurink_rdata_7', 'Hurink_rdata_8', 'Hurink_rdata_9', 'Hurink_vdata_10', 'Hurink_vdata_11', 'Hurink_vdata_12', 'Hurink_vdata_13', 'Hurink_vdata_14', 'Hurink_vdata_15', 'Hurink_vdata_16', 'Hurink_vdata_17', 'Hurink_vdata_18', 'Hurink_vdata_19', 'Hurink_vdata_1', 'Hurink_vdata_20', 'Hurink_vdata_21', 'Hurink_vdata_22', 'Hurink_vdata_23', 'Hurink_vdata_24', 'Hurink_vdata_25', 'Hurink_vdata_26', 'Hurink_vdata_27', 'Hurink_vdata_28', 'Hurink_vdata_29', 'Hurink_vdata_2', 'Hurink_vdata_30', 'Hurink_vdata_31', 'Hurink_vdata_32', 'Hurink_vdata_33', 'Hurink_vdata_34', 'Hurink_vdata_35', 'Hurink_vdata_36', 'Hurink_vdata_37', 'Hurink_vdata_38', 'Hurink_vdata_39', 'Hurink_vdata_3', 'Hurink_vdata_40', 'Hurink_vdata_41', 'Hurink_vdata_42', 'Hurink_vdata_43', 'Hurink_vdata_44', 'Hurink_vdata_45', 'Hurink_vdata_46', 'Hurink_vdata_47', 'Hurink_vdata_48', 'Hurink_vdata_49', 'Hurink_vdata_4', 'Hurink_vdata_50', 'Hurink_vdata_51', 'Hurink_vdata_52', 'Hurink_vdata_53', 'Hurink_vdata_54', 'Hurink_vdata_55', 'Hurink_vdata_56', 'Hurink_vdata_57', 'Hurink_vdata_58', 'Hurink_vdata_59', 'Hurink_vdata_5', 'Hurink_vdata_60', 'Hurink_vdata_61', 'Hurink_vdata_62', 'Hurink_vdata_63', 'Hurink_vdata_64', 'Hurink_vdata_65', 'Hurink_vdata_66', 'Hurink_vdata_6', 'Hurink_vdata_7', 'Hurink_vdata_8', 'Hurink_vdata_9', 'DPpaulli10', 'DPpaulli11', 'DPpaulli12', 'DPpaulli13', 'DPpaulli14', 'DPpaulli15', 'DPpaulli16', 'DPpaulli17', 'DPpaulli18', 'DPpaulli1', 'DPpaulli2', 'DPpaulli3', 'DPpaulli4', 'DPpaulli5', 'DPpaulli6', 'DPpaulli7', 'DPpaulli8', 'DPpaulli9', 'ChambersBarnes10', 'ChambersBarnes11', 'ChambersBarnes12', 'ChambersBarnes13', 'ChambersBarnes14', 'ChambersBarnes15', 'ChambersBarnes16', 'ChambersBarnes17', 'ChambersBarnes18', 'ChambersBarnes19', 'ChambersBarnes1', 'ChambersBarnes20', 'ChambersBarnes21', 'ChambersBarnes2', 'ChambersBarnes3', 'ChambersBarnes4', 'ChambersBarnes5', 'ChambersBarnes6', 'ChambersBarnes7', 'ChambersBarnes8', 'ChambersBarnes9', 'Kacem1', 'Kacem2', 'Kacem3', 'Kacem4', 'Fattahi10', 'Fattahi11', 'Fattahi12', 'Fattahi13', 'Fattahi14', 'Fattahi15', 'Fattahi16', 'Fattahi17', 'Fattahi18', 'Fattahi19', 'Fattahi1', 'Fattahi20', 'Fattahi2', 'Fattahi3', 'Fattahi4', 'Fattahi5', 'Fattahi6', 'Fattahi7', 'Fattahi8', 'Fattahi9'])"
      ]
     },
     "execution_count": 42,
     "metadata": {},
     "output_type": "execute_result"
    }
   ],
   "source": [
    "ga_data.keys()"
   ]
  },
  {
   "cell_type": "code",
   "execution_count": 43,
   "metadata": {},
   "outputs": [],
   "source": [
    "b = 0\n",
    "w = 0\n",
    "t = 0\n",
    "ga_instances = []\n",
    "cp_instances = []\n",
    "tied_instances = []\n",
    "best = dict()\n",
    "for instance in ga_data:\n",
    "    if instance in cp_data:\n",
    "        if ga_data[instance] == cp_data[instance]:\n",
    "            t+=1\n",
    "            best[instance] = ga_data[instance]\n",
    "            tied_instances.append(instance)\n",
    "        elif ga_data[instance] < cp_data[instance]:\n",
    "            b+=1\n",
    "            best[instance] = ga_data[instance]\n",
    "            ga_instances.append(instance)\n",
    "        else:\n",
    "            w+=1\n",
    "            best[instance] = cp_data[instance]\n",
    "            cp_instances.append(instance)\n",
    "    else:\n",
    "        b+=1\n",
    "        best[instance] = ga_data[instance]\n",
    "        ga_instances.append(instance)"
   ]
  },
  {
   "cell_type": "code",
   "execution_count": 44,
   "metadata": {},
   "outputs": [
    {
     "name": "stdout",
     "output_type": "stream",
     "text": [
      "11\n",
      "35\n",
      "356\n"
     ]
    }
   ],
   "source": [
    "print(b)\n",
    "print(t)\n",
    "print(w)"
   ]
  },
  {
   "cell_type": "code",
   "execution_count": 45,
   "metadata": {},
   "outputs": [],
   "source": [
    "def calculate_value(fitness, best):\n",
    "    return ((fitness - best) / best)"
   ]
  },
  {
   "cell_type": "code",
   "execution_count": 46,
   "metadata": {},
   "outputs": [],
   "source": [
    "ga_delta = dict()\n",
    "cp_delta = dict()\n",
    "for instance in ga_data:\n",
    "    ga_delta[instance] = calculate_value(ga_data[instance], best[instance])\n",
    "    if instance in cp_data:\n",
    "        cp_delta[instance] = calculate_value(cp_data[instance], best[instance])\n"
   ]
  },
  {
   "cell_type": "code",
   "execution_count": 47,
   "metadata": {},
   "outputs": [],
   "source": [
    "all_ga_delta = [ga_delta[x] for x in ga_delta]\n",
    "all_cp_delta = [cp_delta[x] for x in cp_delta]\n"
   ]
  },
  {
   "cell_type": "code",
   "execution_count": 48,
   "metadata": {},
   "outputs": [],
   "source": [
    "import statistics\n",
    "ga_max = max(all_ga_delta)\n",
    "cp_max = max(all_cp_delta)\n",
    "ga_mean = statistics.mean(all_ga_delta)\n",
    "cp_mean = statistics.mean(all_cp_delta)\n",
    "ga_stdev = statistics.stdev(all_ga_delta)\n",
    "cp_stdev = statistics.stdev(all_cp_delta)\n",
    "ga_median = statistics.median(all_ga_delta)\n",
    "cp_median = statistics.median(all_cp_delta)"
   ]
  },
  {
   "cell_type": "code",
   "execution_count": 49,
   "metadata": {},
   "outputs": [],
   "source": [
    "ga_stats = dict()\n",
    "cp_stats = dict()\n",
    "tied_stats = dict()\n",
    "for instance in benchmark_data:\n",
    "    if instance in ga_instances:\n",
    "        ga_stats[instance] = benchmark_data[instance]\n",
    "    elif instance in tied_instances:\n",
    "        tied_stats[instance] = benchmark_data[instance]\n",
    "    else:\n",
    "        cp_stats[instance] = benchmark_data[instance]\n"
   ]
  },
  {
   "cell_type": "code",
   "execution_count": 50,
   "metadata": {},
   "outputs": [],
   "source": [
    "def get_data(data):\n",
    "    metrics = dict()\n",
    "    for instance in data:\n",
    "        for key in data[instance]:\n",
    "            if key not in metrics:\n",
    "                metrics[key] = []\n",
    "            metrics[key].append(data[instance][key])\n",
    "    return metrics"
   ]
  },
  {
   "cell_type": "code",
   "execution_count": 51,
   "metadata": {},
   "outputs": [
    {
     "name": "stdout",
     "output_type": "stream",
     "text": [
      "ga\n",
      "n_operations\n",
      "Max: 500, Min: 50, Mean: 166.9090909090909, Median: 100, Stdev: 174.02152426953083\n",
      "flexibility\n",
      "Max: 0.18830370370370372, Min: 0.04925925925925926, Mean: 0.123121047844902, Median: 0.14896, Stdev: 0.05115019308455597\n",
      "duration_variety\n",
      "Max: 0.7315175097276264, Min: 5.873853130176333e-05, Mean: 0.14705631955672713, Median: 0.0005595595147499888, Stdev: 0.27445313794124404\n",
      "n_machines\n",
      "Max: 60, Min: 8, Mean: 41.72727272727273, Median: 60, Stdev: 25.369631093458608\n",
      "d_average\n",
      "Max: 1016.84, Min: 7.138888888888889, Mean: 546.9953762626262, Median: 804.384, Stdev: 432.2565083980827\n",
      "tie\n",
      "n_operations\n",
      "Max: 277, Min: 4, Mean: 50.22857142857143, Median: 36, Stdev: 60.79864826007319\n",
      "flexibility\n",
      "Max: 0.75, Min: 0.05245596761842249, Mean: 0.27549333712805807, Median: 0.19944444444444445, Stdev: 0.1974570005832944\n",
      "duration_variety\n",
      "Max: 0.95, Min: 0.000541829215431296, Mean: 0.36478148308803887, Median: 0.3161290322580645, Stdev: 0.32373069164936513\n",
      "n_machines\n",
      "Max: 60, Min: 2, Mean: 9.742857142857142, Median: 5, Stdev: 14.086586980993985\n",
      "d_average\n",
      "Max: 922.8, Min: 2.8333333333333335, Mean: 76.90544424797596, Median: 8.333333333333334, Stdev: 221.85112655799853\n",
      "cp\n",
      "n_operations\n",
      "Max: 500, Min: 24, Mean: 159.41573033707866, Median: 100.0, Stdev: 108.14745374653752\n",
      "flexibility\n",
      "Max: 0.5812807881773399, Min: 0.032476851851851854, Mean: 0.1432880321555678, Median: 0.132, Stdev: 0.08456767928038451\n",
      "duration_variety\n",
      "Max: 0.8806818181818182, Min: 5.666916766593299e-05, Mean: 0.12857116303135618, Median: 0.052800831293837766, Stdev: 0.19893393227914918\n",
      "n_machines\n",
      "Max: 60, Min: 4, Mean: 13.01123595505618, Median: 10.0, Stdev: 11.505290278111413\n",
      "d_average\n",
      "Max: 943.35, Min: 3.3846153846153846, Mean: 65.03271981918043, Median: 12.395555555555557, Stdev: 160.7349826067042\n"
     ]
    }
   ],
   "source": [
    "metrics = {\n",
    "    'ga': get_data(ga_stats),\n",
    "    'tie': get_data(tied_stats),\n",
    "    'cp': get_data(cp_stats)\n",
    "}\n",
    "for key in metrics:\n",
    "    print(key)\n",
    "    for metric in metrics[key]:\n",
    "        if metric == 'additional_metrics':\n",
    "            print('d_average')\n",
    "            d_average = [metrics[key][metric][i]['d_average'] for i in range(len(metrics[key][metric]))]\n",
    "            mean = statistics.mean(d_average)\n",
    "            median = statistics.median(d_average)\n",
    "            stdev = statistics.stdev(d_average)\n",
    "            print(f'Max: {max(d_average)}, Min: {min(d_average)}, Mean: {mean}, Median: {median}, Stdev: {stdev}')\n",
    "        else:\n",
    "            print(metric)\n",
    "            mean = statistics.mean(metrics[key][metric])\n",
    "            median = statistics.median(metrics[key][metric])\n",
    "            stdev = statistics.stdev(metrics[key][metric])\n",
    "            print(f'Max: {max(metrics[key][metric])}, Min: {min(metrics[key][metric])}, Mean: {mean}, Median: {median}, Stdev: {stdev}')"
   ]
  },
  {
   "cell_type": "code",
   "execution_count": 52,
   "metadata": {},
   "outputs": [
    {
     "data": {
      "text/plain": [
       "['Behnke41',\n",
       " 'Behnke42',\n",
       " 'Behnke44',\n",
       " 'Behnke47',\n",
       " 'Behnke54',\n",
       " 'Behnke56',\n",
       " 'Behnke57',\n",
       " 'Hurink_sdata_2',\n",
       " 'Hurink_sdata_54',\n",
       " 'Hurink_edata_56',\n",
       " 'ChambersBarnes7']"
      ]
     },
     "execution_count": 52,
     "metadata": {},
     "output_type": "execute_result"
    }
   ],
   "source": [
    "ga_instances"
   ]
  },
  {
   "cell_type": "code",
   "execution_count": null,
   "metadata": {},
   "outputs": [],
   "source": []
  }
 ],
 "metadata": {
  "kernelspec": {
   "display_name": "Python 3",
   "language": "python",
   "name": "python3"
  },
  "language_info": {
   "codemirror_mode": {
    "name": "ipython",
    "version": 3
   },
   "file_extension": ".py",
   "mimetype": "text/x-python",
   "name": "python",
   "nbconvert_exporter": "python",
   "pygments_lexer": "ipython3",
   "version": "3.10.3"
  }
 },
 "nbformat": 4,
 "nbformat_minor": 2
}
