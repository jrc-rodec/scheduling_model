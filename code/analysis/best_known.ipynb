{
 "cells": [
  {
   "cell_type": "code",
   "execution_count": 23,
   "metadata": {},
   "outputs": [],
   "source": [
    "import pandas as pd"
   ]
  },
  {
   "cell_type": "code",
   "execution_count": 24,
   "metadata": {},
   "outputs": [],
   "source": [
    "exact_path = r'/home/dhu/Downloads/results'\n",
    "exact_files = ['results_cplex_cp.txt', 'results_cplex_lp_rewritten.txt', 'results_gurobi.txt', 'results_hexaly_rewritten.txt', 'results_ortools.txt']\n",
    "ga_path = r'/home/dhu/Downloads/ga_results/converted/results_ga_best.txt'\n"
   ]
  },
  {
   "cell_type": "code",
   "execution_count": 25,
   "metadata": {},
   "outputs": [],
   "source": [
    "all = []\n",
    "for file in exact_files:\n",
    "    file_content = pd.read_csv(exact_path + '/' + file, names=['name','optimization_status','fitness_value','lower_bound', 'runtime', 'result_vector1', 'result_vector2', 'result_vector3', 'peak_cpu', 'peak_ram', 'resource_history', 'best_result_history'], sep=';')#, converters={'best_result_history': pd.eval})\n",
    "    data = pd.DataFrame(file_content)\n",
    "    all.append(data)"
   ]
  },
  {
   "cell_type": "code",
   "execution_count": 26,
   "metadata": {},
   "outputs": [],
   "source": [
    "file_content = pd.read_csv(ga_path, names=['name','optimization_status','fitness_value','lower_bound', 'runtime', 'result_vector1', 'result_vector2', 'result_vector3', 'peak_cpu', 'peak_ram', 'resource_history', 'best_result_history'], sep=';')#, converters={'best_result_history': pd.eval})\n",
    "data = pd.DataFrame(file_content)\n",
    "all.append(data)"
   ]
  },
  {
   "cell_type": "code",
   "execution_count": 27,
   "metadata": {},
   "outputs": [
    {
     "data": {
      "text/plain": [
       "6"
      ]
     },
     "execution_count": 27,
     "metadata": {},
     "output_type": "execute_result"
    }
   ],
   "source": [
    "len(all)"
   ]
  },
  {
   "cell_type": "code",
   "execution_count": 28,
   "metadata": {},
   "outputs": [],
   "source": [
    "data = dict()\n",
    "data['cplex_cp'] = all[0]\n",
    "data['cplex_lp'] = all[1]\n",
    "data['gurobi'] = all[2]\n",
    "data['hexaly'] = all[3]\n",
    "data['ortools'] = all[4]\n",
    "data['ga'] = all[5] # TODO: double check if best data is used"
   ]
  },
  {
   "cell_type": "code",
   "execution_count": 29,
   "metadata": {},
   "outputs": [],
   "source": [
    "del all"
   ]
  },
  {
   "cell_type": "code",
   "execution_count": 30,
   "metadata": {},
   "outputs": [],
   "source": [
    "instances = dict()\n",
    "for solver in data.keys():\n",
    "    for index, row in data[solver].iterrows():\n",
    "        if row['name'].startswith('Error'):\n",
    "            continue\n",
    "        name = row['name'].split('_')\n",
    "        name = ''.join(name[1:-1])\n",
    "        if name not in instances:\n",
    "            instances[name] = float('inf')\n",
    "        if row['fitness_value'] > 0 and row['fitness_value'] < instances[name]:\n",
    "            instances[name] = row['fitness_value']"
   ]
  },
  {
   "cell_type": "code",
   "execution_count": 31,
   "metadata": {},
   "outputs": [],
   "source": [
    "results = []\n",
    "for instance in instances:\n",
    "    results.append(f'{instance};{instances[instance]}\\n')"
   ]
  },
  {
   "cell_type": "code",
   "execution_count": 32,
   "metadata": {},
   "outputs": [],
   "source": [
    "with open('best_known_curated.txt', 'a') as f:\n",
    "    f.writelines(results)"
   ]
  }
 ],
 "metadata": {
  "kernelspec": {
   "display_name": ".venv",
   "language": "python",
   "name": "python3"
  },
  "language_info": {
   "codemirror_mode": {
    "name": "ipython",
    "version": 3
   },
   "file_extension": ".py",
   "mimetype": "text/x-python",
   "name": "python",
   "nbconvert_exporter": "python",
   "pygments_lexer": "ipython3",
   "version": "3.12.3"
  }
 },
 "nbformat": 4,
 "nbformat_minor": 2
}
