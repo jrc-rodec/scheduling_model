{
 "cells": [
  {
   "cell_type": "code",
   "execution_count": 1,
   "metadata": {},
   "outputs": [],
   "source": [
    "import os\n",
    "import json"
   ]
  },
  {
   "cell_type": "code",
   "execution_count": 2,
   "metadata": {},
   "outputs": [],
   "source": [
    "path = r'C:\\Users\\localadmin\\OneDrive - FH Vorarlberg\\fjssp-w-ga-comparison\\adjustment'\n",
    "#path + \n",
    "#path + \n",
    "wpath = r'C:\\Users\\localadmin\\Desktop\\experiments\\comparison\\adjustment\\without\\\\'\n",
    "npath = r'C:\\Users\\localadmin\\Desktop\\experiments\\comparison\\flex\\repeat\\\\'"
   ]
  },
  {
   "cell_type": "code",
   "execution_count": 3,
   "metadata": {},
   "outputs": [
    {
     "ename": "FileNotFoundError",
     "evalue": "[WinError 3] The system cannot find the path specified: 'C:\\\\Users\\\\localadmin\\\\Desktop\\\\experiments\\\\comparison\\\\adjustment\\\\without\\\\\\\\'",
     "output_type": "error",
     "traceback": [
      "\u001b[1;31m---------------------------------------------------------------------------\u001b[0m",
      "\u001b[1;31mFileNotFoundError\u001b[0m                         Traceback (most recent call last)",
      "Cell \u001b[1;32mIn[3], line 1\u001b[0m\n\u001b[1;32m----> 1\u001b[0m files \u001b[38;5;241m=\u001b[39m \u001b[43mos\u001b[49m\u001b[38;5;241;43m.\u001b[39;49m\u001b[43mlistdir\u001b[49m\u001b[43m(\u001b[49m\u001b[43mwpath\u001b[49m\u001b[43m)\u001b[49m\n",
      "\u001b[1;31mFileNotFoundError\u001b[0m: [WinError 3] The system cannot find the path specified: 'C:\\\\Users\\\\localadmin\\\\Desktop\\\\experiments\\\\comparison\\\\adjustment\\\\without\\\\\\\\'"
     ]
    }
   ],
   "source": [
    "files = os.listdir(wpath)"
   ]
  },
  {
   "cell_type": "code",
   "execution_count": null,
   "metadata": {},
   "outputs": [
    {
     "data": {
      "text/plain": [
       "['0_BehnkeGeiger_42_workers.fjs.json',\n",
       " '0_BehnkeGeiger_46_workers.fjs.json',\n",
       " '0_BehnkeGeiger_60_workers.fjs.json',\n",
       " '1_Brandimarte_12_workers.fjs.json',\n",
       " '1_Brandimarte_14_workers.fjs.json',\n",
       " '1_Brandimarte_7_workers.fjs.json',\n",
       " '2a_Hurink_sdata_18_workers.fjs.json',\n",
       " '2a_Hurink_sdata_1_workers.fjs.json',\n",
       " '2a_Hurink_sdata_38_workers.fjs.json',\n",
       " '2a_Hurink_sdata_40_workers.fjs.json',\n",
       " '2a_Hurink_sdata_54_workers.fjs.json',\n",
       " '2a_Hurink_sdata_61_workers.fjs.json',\n",
       " '2a_Hurink_sdata_63_workers.fjs.json',\n",
       " '2b_Hurink_edata_1_workers.fjs.json',\n",
       " '2b_Hurink_edata_6_workers.fjs.json',\n",
       " '2c_Hurink_rdata_28_workers.fjs.json',\n",
       " '2c_Hurink_rdata_38_workers.fjs.json',\n",
       " '2c_Hurink_rdata_50_workers.fjs.json',\n",
       " '2d_Hurink_vdata_18_workers.fjs.json',\n",
       " '2d_Hurink_vdata_30_workers.fjs.json',\n",
       " '2d_Hurink_vdata_5_workers.fjs.json',\n",
       " '3_DPpaulli_15_workers.fjs.json',\n",
       " '3_DPpaulli_18_workers.fjs.json',\n",
       " '3_DPpaulli_1_workers.fjs.json',\n",
       " '3_DPpaulli_9_workers.fjs.json',\n",
       " '4_ChambersBarnes_10_workers.fjs.json',\n",
       " '5_Kacem_3_workers.fjs.json',\n",
       " '5_Kacem_4_workers.fjs.json',\n",
       " '6_Fattahi_14_workers.fjs.json',\n",
       " '6_Fattahi_20_workers.fjs.json']"
      ]
     },
     "execution_count": 4,
     "metadata": {},
     "output_type": "execute_result"
    }
   ],
   "source": [
    "files"
   ]
  },
  {
   "cell_type": "code",
   "execution_count": null,
   "metadata": {},
   "outputs": [],
   "source": [
    "w = dict()\n",
    "n = dict()\n",
    "for file in files:\n",
    "    name = ''.join(file.split('_')[1:-1])\n",
    "    with open(wpath + file, 'r') as f:\n",
    "        text = '{\"results\":'+f.read()[9:-1]+']}'\n",
    "        data = json.loads(text)\n",
    "        w[name] = data\n",
    "    with open(npath + file, 'r') as f:\n",
    "        text = '{\"results\":'+f.read()[9:-1]+']}'\n",
    "        data = json.loads(text)\n",
    "        n[name] = data\n",
    "del data\n",
    "del text"
   ]
  },
  {
   "cell_type": "code",
   "execution_count": null,
   "metadata": {},
   "outputs": [],
   "source": [
    "best_w = dict()\n",
    "best_n = dict()\n",
    "for key in w:\n",
    "    if key not in best_w:\n",
    "        best_w[key] = {'f': float('inf')}\n",
    "    if key not in best_n:\n",
    "        best_n[key] = {'f': float('inf')}\n",
    "    a = 0\n",
    "    at = 0\n",
    "    af = 0\n",
    "    for run in w[key]['results']:\n",
    "        f = run['Result']['Fitness']['Makespan']\n",
    "        a += f\n",
    "        at += run['Result']['TimeInSeconds']\n",
    "        af += run['Result']['FunctionEvaluations']\n",
    "        if f < best_w[key]['f']:\n",
    "            best_w[key]['f'] = f\n",
    "    a /= len(w[key]['results'])\n",
    "    at /= len(w[key]['results'])\n",
    "    af /= len(w[key]['results'])\n",
    "    best_w[key]['a'] = a\n",
    "    best_w[key]['at'] = at\n",
    "    best_w[key]['af'] = af\n",
    "    a = 0\n",
    "    for run in n[key]['results']:\n",
    "        f = run['Result']['Fitness']['Makespan']\n",
    "        a += f\n",
    "        at += run['Result']['TimeInSeconds']\n",
    "        af += run['Result']['FunctionEvaluations']\n",
    "        if f < best_n[key]['f']:\n",
    "            best_n[key]['f'] = f\n",
    "    a /= len(n[key]['results'])\n",
    "    at /= len(w[key]['results'])\n",
    "    af /= len(w[key]['results'])\n",
    "    best_n[key]['at'] = at\n",
    "    best_n[key]['af'] = af\n",
    "    best_n[key]['a'] = a"
   ]
  },
  {
   "cell_type": "code",
   "execution_count": null,
   "metadata": {},
   "outputs": [],
   "source": [
    "f = dict()\n",
    "a = dict()\n",
    "for key in best_w:\n",
    "    if best_w[key]['f'] == best_n[key]['f']:\n",
    "        f[key] = 'TIE'\n",
    "    elif best_w[key]['f'] < best_n[key]['f']:\n",
    "        f[key] = 'WITH'\n",
    "    else:\n",
    "        f[key] = 'WITHOUT'\n",
    "    if best_w[key]['a'] == best_n[key]['a']:\n",
    "        a[key] = 'TIE'\n",
    "    elif best_w[key]['a'] < best_n[key]['a']:\n",
    "        a[key] = 'WITH'\n",
    "    else:\n",
    "        a[key] = 'WITHOUT'\n"
   ]
  },
  {
   "cell_type": "code",
   "execution_count": null,
   "metadata": {},
   "outputs": [],
   "source": [
    "cn = sum([1 for x in f if f[x] == 'WITHOUT'])\n",
    "cw = sum([1 for x in f if f[x] == 'WITH'])\n",
    "ct = sum([1 for x in f if f[x] == 'TIE'])"
   ]
  },
  {
   "cell_type": "code",
   "execution_count": null,
   "metadata": {},
   "outputs": [
    {
     "data": {
      "text/plain": [
       "0.6333333333333333"
      ]
     },
     "execution_count": 9,
     "metadata": {},
     "output_type": "execute_result"
    }
   ],
   "source": [
    "cn/len(f)"
   ]
  },
  {
   "cell_type": "code",
   "execution_count": null,
   "metadata": {},
   "outputs": [
    {
     "data": {
      "text/plain": [
       "0.13333333333333333"
      ]
     },
     "execution_count": 10,
     "metadata": {},
     "output_type": "execute_result"
    }
   ],
   "source": [
    "cw/len(f)"
   ]
  },
  {
   "cell_type": "code",
   "execution_count": null,
   "metadata": {},
   "outputs": [
    {
     "data": {
      "text/plain": [
       "0.23333333333333334"
      ]
     },
     "execution_count": 11,
     "metadata": {},
     "output_type": "execute_result"
    }
   ],
   "source": [
    "ct/len(f)"
   ]
  },
  {
   "cell_type": "code",
   "execution_count": null,
   "metadata": {},
   "outputs": [],
   "source": [
    "cn = sum([1 for x in a if a[x] == 'WITHOUT'])\n",
    "cw = sum([1 for x in a if a[x] == 'WITH'])\n",
    "ct = sum([1 for x in a if a[x] == 'TIE'])"
   ]
  },
  {
   "cell_type": "code",
   "execution_count": null,
   "metadata": {},
   "outputs": [
    {
     "data": {
      "text/plain": [
       "0.5333333333333333"
      ]
     },
     "execution_count": 13,
     "metadata": {},
     "output_type": "execute_result"
    }
   ],
   "source": [
    "cn/len(f)"
   ]
  },
  {
   "cell_type": "code",
   "execution_count": null,
   "metadata": {},
   "outputs": [
    {
     "data": {
      "text/plain": [
       "0.36666666666666664"
      ]
     },
     "execution_count": 14,
     "metadata": {},
     "output_type": "execute_result"
    }
   ],
   "source": [
    "cw/len(f)"
   ]
  },
  {
   "cell_type": "code",
   "execution_count": null,
   "metadata": {},
   "outputs": [
    {
     "data": {
      "text/plain": [
       "0.1"
      ]
     },
     "execution_count": 15,
     "metadata": {},
     "output_type": "execute_result"
    }
   ],
   "source": [
    "ct/len(f)"
   ]
  },
  {
   "cell_type": "code",
   "execution_count": null,
   "metadata": {},
   "outputs": [
    {
     "name": "stdout",
     "output_type": "stream",
     "text": [
      "BehnkeGeiger42: DT:-663.2259599055556 | DF:-7731775.555555556\n",
      "BehnkeGeiger46: DT:-683.5611902416667 | DF:-5013700.555555556\n",
      "BehnkeGeiger60: DT:-984.3082053361111 | DF:-973335.5555555555\n",
      "Brandimarte12: DT:-702.773685763889 | DF:-2622253.888888889\n",
      "Brandimarte14: DT:-686.0081455138887 | DF:-1721136.6666666665\n",
      "Brandimarte7: DT:-681.8772679638889 | DF:-4239876.111111112\n",
      "Hurinksdata18: DT:-666.0139954333331 | DF:-5894810.555555556\n",
      "Hurinksdata1: DT:-204.1165788611112 | DF:-2859939.444444444\n",
      "Hurinksdata38: DT:-680.4192771277778 | DF:-3300579.444444444\n",
      "Hurinksdata40: DT:-652.0258842972222 | DF:-5292285.555555556\n",
      "Hurinksdata54: DT:-653.5292594694445 | DF:-10191588.888888888\n",
      "Hurinksdata61: DT:-658.6088138722224 | DF:-8684983.88888889\n",
      "Hurinksdata63: DT:-654.0317142916667 | DF:-8619446.666666666\n",
      "Hurinkedata1: DT:-4.482483077777778 | DF:-112448.88888888888\n",
      "Hurinkedata6: DT:-656.9386489833335 | DF:-8458995.555555556\n",
      "Hurinkrdata28: DT:-656.682197111111 | DF:-4301342.222222222\n",
      "Hurinkrdata38: DT:-772.8307573666668 | DF:-1548836.111111111\n",
      "Hurinkrdata50: DT:-656.9999229527779 | DF:-7352234.444444444\n",
      "Hurinkvdata18: DT:-655.225532125 | DF:-5255095.0\n",
      "Hurinkvdata30: DT:-707.5343743944445 | DF:-2102347.2222222225\n",
      "Hurinkvdata5: DT:-656.1468212694444 | DF:-7574566.666666666\n",
      "DPpaulli15: DT:-837.1898620694442 | DF:-1086491.1111111112\n",
      "DPpaulli18: DT:-840.0442916500001 | DF:-1096923.8888888888\n",
      "DPpaulli1: DT:-706.638224236111 | DF:-3724617.777777778\n",
      "DPpaulli9: DT:-779.9811582055554 | DF:-1465742.222222222\n",
      "ChambersBarnes10: DT:-652.1182905000001 | DF:-7064108.333333334\n",
      "Kacem3: DT:-12.03989485277778 | DF:-310643.8888888889\n",
      "Kacem4: DT:-663.7653718666667 | DF:-8513406.666666666\n",
      "Fattahi14: DT:-650.9435767194445 | DF:-12818360.0\n",
      "Fattahi20: DT:-658.4066177916666 | DF:-9627140.0\n",
      "ADT: -637.9489334416666\n",
      "ADF: -4985300.425925926\n",
      "ADFP: 0.3154522167895841\n"
     ]
    }
   ],
   "source": [
    "adt = 0\n",
    "adf = 0\n",
    "adfp = 0\n",
    "for key in best_w:\n",
    "    dt = best_w[key]['at'] - best_n[key]['at']\n",
    "    df = best_w[key]['af'] - best_n[key]['af']\n",
    "    adt += dt\n",
    "    adf += df\n",
    "    adfp += best_w[key]['af']/best_n[key]['af']\n",
    "    print(f'{key}: DT:{dt} | DF:{df}')\n",
    "adt /= len(best_w)\n",
    "adf /= len(best_w)\n",
    "adfp /= len(best_w)\n",
    "print(f'ADT: {adt}')\n",
    "print(f'ADF: {adf}')\n",
    "print(f'ADFP: {adfp}')\n"
   ]
  }
 ],
 "metadata": {
  "kernelspec": {
   "display_name": "Python 3",
   "language": "python",
   "name": "python3"
  },
  "language_info": {
   "codemirror_mode": {
    "name": "ipython",
    "version": 3
   },
   "file_extension": ".py",
   "mimetype": "text/x-python",
   "name": "python",
   "nbconvert_exporter": "python",
   "pygments_lexer": "ipython3",
   "version": "3.11.1"
  }
 },
 "nbformat": 4,
 "nbformat_minor": 2
}
