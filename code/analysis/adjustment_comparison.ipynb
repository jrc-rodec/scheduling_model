{
 "cells": [
  {
   "cell_type": "code",
   "execution_count": 9,
   "metadata": {},
   "outputs": [],
   "source": [
    "import os\n",
    "import json"
   ]
  },
  {
   "cell_type": "code",
   "execution_count": 5,
   "metadata": {},
   "outputs": [],
   "source": [
    "path = r'C:\\Users\\localadmin\\OneDrive - FH Vorarlberg\\fjssp-w-ga-comparison\\adjustment'\n",
    "wpath = path + '\\with\\\\'\n",
    "npath = path + '\\without\\\\'"
   ]
  },
  {
   "cell_type": "code",
   "execution_count": 6,
   "metadata": {},
   "outputs": [],
   "source": [
    "files = os.listdir(wpath)"
   ]
  },
  {
   "cell_type": "code",
   "execution_count": 8,
   "metadata": {},
   "outputs": [
    {
     "data": {
      "text/plain": [
       "['0_BehnkeGeiger_42_workers.fjs.json',\n",
       " '0_BehnkeGeiger_46_workers.fjs.json',\n",
       " '0_BehnkeGeiger_60_workers.fjs.json',\n",
       " '1_Brandimarte_12_workers.fjs.json',\n",
       " '1_Brandimarte_14_workers.fjs.json',\n",
       " '1_Brandimarte_7_workers.fjs.json',\n",
       " '2a_Hurink_sdata_18_workers.fjs.json',\n",
       " '2a_Hurink_sdata_1_workers.fjs.json',\n",
       " '2a_Hurink_sdata_38_workers.fjs.json',\n",
       " '2a_Hurink_sdata_40_workers.fjs.json',\n",
       " '2a_Hurink_sdata_54_workers.fjs.json',\n",
       " '2a_Hurink_sdata_61_workers.fjs.json',\n",
       " '2a_Hurink_sdata_63_workers.fjs.json',\n",
       " '2b_Hurink_edata_1_workers.fjs.json',\n",
       " '2b_Hurink_edata_6_workers.fjs.json',\n",
       " '2c_Hurink_rdata_28_workers.fjs.json',\n",
       " '2c_Hurink_rdata_38_workers.fjs.json',\n",
       " '2c_Hurink_rdata_50_workers.fjs.json',\n",
       " '2d_Hurink_vdata_18_workers.fjs.json',\n",
       " '2d_Hurink_vdata_30_workers.fjs.json',\n",
       " '2d_Hurink_vdata_5_workers.fjs.json',\n",
       " '3_DPpaulli_15_workers.fjs.json',\n",
       " '3_DPpaulli_18_workers.fjs.json',\n",
       " '3_DPpaulli_1_workers.fjs.json',\n",
       " '3_DPpaulli_9_workers.fjs.json',\n",
       " '4_ChambersBarnes_10_workers.fjs.json',\n",
       " '5_Kacem_3_workers.fjs.json',\n",
       " '5_Kacem_4_workers.fjs.json',\n",
       " '6_Fattahi_14_workers.fjs.json',\n",
       " '6_Fattahi_20_workers.fjs.json']"
      ]
     },
     "execution_count": 8,
     "metadata": {},
     "output_type": "execute_result"
    }
   ],
   "source": [
    "files"
   ]
  },
  {
   "cell_type": "code",
   "execution_count": 23,
   "metadata": {},
   "outputs": [],
   "source": [
    "w = dict()\n",
    "n = dict()\n",
    "for file in files:\n",
    "    name = ''.join(file.split('_')[1:-1])\n",
    "    with open(wpath + file, 'r') as f:\n",
    "        text = '{\"results\":'+f.read()[9:-1]+']}'\n",
    "        data = json.loads(text)\n",
    "        w[name] = data\n",
    "    with open(npath + file, 'r') as f:\n",
    "        text = '{\"results\":'+f.read()[9:-1]+']}'\n",
    "        data = json.loads(text)\n",
    "        n[name] = data\n",
    "del data\n",
    "del text"
   ]
  },
  {
   "cell_type": "code",
   "execution_count": 26,
   "metadata": {},
   "outputs": [
    {
     "ename": "KeyboardInterrupt",
     "evalue": "",
     "output_type": "error",
     "traceback": [
      "\u001b[1;31m---------------------------------------------------------------------------\u001b[0m",
      "\u001b[1;31mKeyboardInterrupt\u001b[0m                         Traceback (most recent call last)",
      "Cell \u001b[1;32mIn[26], line 1\u001b[0m\n\u001b[1;32m----> 1\u001b[0m w\n",
      "File \u001b[1;32m~\\AppData\\Roaming\\Python\\Python310\\site-packages\\IPython\\core\\displayhook.py:268\u001b[0m, in \u001b[0;36mDisplayHook.__call__\u001b[1;34m(self, result)\u001b[0m\n\u001b[0;32m    266\u001b[0m \u001b[38;5;28mself\u001b[39m\u001b[38;5;241m.\u001b[39mstart_displayhook()\n\u001b[0;32m    267\u001b[0m \u001b[38;5;28mself\u001b[39m\u001b[38;5;241m.\u001b[39mwrite_output_prompt()\n\u001b[1;32m--> 268\u001b[0m format_dict, md_dict \u001b[38;5;241m=\u001b[39m \u001b[38;5;28;43mself\u001b[39;49m\u001b[38;5;241;43m.\u001b[39;49m\u001b[43mcompute_format_data\u001b[49m\u001b[43m(\u001b[49m\u001b[43mresult\u001b[49m\u001b[43m)\u001b[49m\n\u001b[0;32m    269\u001b[0m \u001b[38;5;28mself\u001b[39m\u001b[38;5;241m.\u001b[39mupdate_user_ns(result)\n\u001b[0;32m    270\u001b[0m \u001b[38;5;28mself\u001b[39m\u001b[38;5;241m.\u001b[39mfill_exec_result(result)\n",
      "File \u001b[1;32m~\\AppData\\Roaming\\Python\\Python310\\site-packages\\IPython\\core\\displayhook.py:157\u001b[0m, in \u001b[0;36mDisplayHook.compute_format_data\u001b[1;34m(self, result)\u001b[0m\n\u001b[0;32m    127\u001b[0m \u001b[38;5;28;01mdef\u001b[39;00m\u001b[38;5;250m \u001b[39m\u001b[38;5;21mcompute_format_data\u001b[39m(\u001b[38;5;28mself\u001b[39m, result):\n\u001b[0;32m    128\u001b[0m \u001b[38;5;250m    \u001b[39m\u001b[38;5;124;03m\"\"\"Compute format data of the object to be displayed.\u001b[39;00m\n\u001b[0;32m    129\u001b[0m \n\u001b[0;32m    130\u001b[0m \u001b[38;5;124;03m    The format data is a generalization of the :func:`repr` of an object.\u001b[39;00m\n\u001b[1;32m   (...)\u001b[0m\n\u001b[0;32m    155\u001b[0m \n\u001b[0;32m    156\u001b[0m \u001b[38;5;124;03m    \"\"\"\u001b[39;00m\n\u001b[1;32m--> 157\u001b[0m     \u001b[38;5;28;01mreturn\u001b[39;00m \u001b[38;5;28;43mself\u001b[39;49m\u001b[38;5;241;43m.\u001b[39;49m\u001b[43mshell\u001b[49m\u001b[38;5;241;43m.\u001b[39;49m\u001b[43mdisplay_formatter\u001b[49m\u001b[38;5;241;43m.\u001b[39;49m\u001b[43mformat\u001b[49m\u001b[43m(\u001b[49m\u001b[43mresult\u001b[49m\u001b[43m)\u001b[49m\n",
      "File \u001b[1;32m~\\AppData\\Roaming\\Python\\Python310\\site-packages\\IPython\\core\\formatters.py:238\u001b[0m, in \u001b[0;36mDisplayFormatter.format\u001b[1;34m(self, obj, include, exclude)\u001b[0m\n\u001b[0;32m    236\u001b[0m md \u001b[38;5;241m=\u001b[39m \u001b[38;5;28;01mNone\u001b[39;00m\n\u001b[0;32m    237\u001b[0m \u001b[38;5;28;01mtry\u001b[39;00m:\n\u001b[1;32m--> 238\u001b[0m     data \u001b[38;5;241m=\u001b[39m \u001b[43mformatter\u001b[49m\u001b[43m(\u001b[49m\u001b[43mobj\u001b[49m\u001b[43m)\u001b[49m\n\u001b[0;32m    239\u001b[0m \u001b[38;5;28;01mexcept\u001b[39;00m:\n\u001b[0;32m    240\u001b[0m     \u001b[38;5;66;03m# FIXME: log the exception\u001b[39;00m\n\u001b[0;32m    241\u001b[0m     \u001b[38;5;28;01mraise\u001b[39;00m\n",
      "File \u001b[1;32m~\\AppData\\Roaming\\Python\\Python310\\site-packages\\decorator.py:232\u001b[0m, in \u001b[0;36mdecorate.<locals>.fun\u001b[1;34m(*args, **kw)\u001b[0m\n\u001b[0;32m    230\u001b[0m \u001b[38;5;28;01mif\u001b[39;00m \u001b[38;5;129;01mnot\u001b[39;00m kwsyntax:\n\u001b[0;32m    231\u001b[0m     args, kw \u001b[38;5;241m=\u001b[39m fix(args, kw, sig)\n\u001b[1;32m--> 232\u001b[0m \u001b[38;5;28;01mreturn\u001b[39;00m caller(func, \u001b[38;5;241m*\u001b[39m(extras \u001b[38;5;241m+\u001b[39m args), \u001b[38;5;241m*\u001b[39m\u001b[38;5;241m*\u001b[39mkw)\n",
      "File \u001b[1;32m~\\AppData\\Roaming\\Python\\Python310\\site-packages\\IPython\\core\\formatters.py:282\u001b[0m, in \u001b[0;36mcatch_format_error\u001b[1;34m(method, self, *args, **kwargs)\u001b[0m\n\u001b[0;32m    280\u001b[0m \u001b[38;5;250m\u001b[39m\u001b[38;5;124;03m\"\"\"show traceback on failed format call\"\"\"\u001b[39;00m\n\u001b[0;32m    281\u001b[0m \u001b[38;5;28;01mtry\u001b[39;00m:\n\u001b[1;32m--> 282\u001b[0m     r \u001b[38;5;241m=\u001b[39m method(\u001b[38;5;28mself\u001b[39m, \u001b[38;5;241m*\u001b[39margs, \u001b[38;5;241m*\u001b[39m\u001b[38;5;241m*\u001b[39mkwargs)\n\u001b[0;32m    283\u001b[0m \u001b[38;5;28;01mexcept\u001b[39;00m \u001b[38;5;167;01mNotImplementedError\u001b[39;00m:\n\u001b[0;32m    284\u001b[0m     \u001b[38;5;66;03m# don't warn on NotImplementedErrors\u001b[39;00m\n\u001b[0;32m    285\u001b[0m     \u001b[38;5;28;01mreturn\u001b[39;00m \u001b[38;5;28mself\u001b[39m\u001b[38;5;241m.\u001b[39m_check_return(\u001b[38;5;28;01mNone\u001b[39;00m, args[\u001b[38;5;241m0\u001b[39m])\n",
      "File \u001b[1;32m~\\AppData\\Roaming\\Python\\Python310\\site-packages\\IPython\\core\\formatters.py:770\u001b[0m, in \u001b[0;36mPlainTextFormatter.__call__\u001b[1;34m(self, obj)\u001b[0m\n\u001b[0;32m    763\u001b[0m stream \u001b[38;5;241m=\u001b[39m StringIO()\n\u001b[0;32m    764\u001b[0m printer \u001b[38;5;241m=\u001b[39m pretty\u001b[38;5;241m.\u001b[39mRepresentationPrinter(stream, \u001b[38;5;28mself\u001b[39m\u001b[38;5;241m.\u001b[39mverbose,\n\u001b[0;32m    765\u001b[0m     \u001b[38;5;28mself\u001b[39m\u001b[38;5;241m.\u001b[39mmax_width, \u001b[38;5;28mself\u001b[39m\u001b[38;5;241m.\u001b[39mnewline,\n\u001b[0;32m    766\u001b[0m     max_seq_length\u001b[38;5;241m=\u001b[39m\u001b[38;5;28mself\u001b[39m\u001b[38;5;241m.\u001b[39mmax_seq_length,\n\u001b[0;32m    767\u001b[0m     singleton_pprinters\u001b[38;5;241m=\u001b[39m\u001b[38;5;28mself\u001b[39m\u001b[38;5;241m.\u001b[39msingleton_printers,\n\u001b[0;32m    768\u001b[0m     type_pprinters\u001b[38;5;241m=\u001b[39m\u001b[38;5;28mself\u001b[39m\u001b[38;5;241m.\u001b[39mtype_printers,\n\u001b[0;32m    769\u001b[0m     deferred_pprinters\u001b[38;5;241m=\u001b[39m\u001b[38;5;28mself\u001b[39m\u001b[38;5;241m.\u001b[39mdeferred_printers)\n\u001b[1;32m--> 770\u001b[0m \u001b[43mprinter\u001b[49m\u001b[38;5;241;43m.\u001b[39;49m\u001b[43mpretty\u001b[49m\u001b[43m(\u001b[49m\u001b[43mobj\u001b[49m\u001b[43m)\u001b[49m\n\u001b[0;32m    771\u001b[0m printer\u001b[38;5;241m.\u001b[39mflush()\n\u001b[0;32m    772\u001b[0m \u001b[38;5;28;01mreturn\u001b[39;00m stream\u001b[38;5;241m.\u001b[39mgetvalue()\n",
      "File \u001b[1;32m~\\AppData\\Roaming\\Python\\Python310\\site-packages\\IPython\\lib\\pretty.py:394\u001b[0m, in \u001b[0;36mRepresentationPrinter.pretty\u001b[1;34m(self, obj)\u001b[0m\n\u001b[0;32m    391\u001b[0m \u001b[38;5;28;01mfor\u001b[39;00m \u001b[38;5;28mcls\u001b[39m \u001b[38;5;129;01min\u001b[39;00m _get_mro(obj_class):\n\u001b[0;32m    392\u001b[0m     \u001b[38;5;28;01mif\u001b[39;00m \u001b[38;5;28mcls\u001b[39m \u001b[38;5;129;01min\u001b[39;00m \u001b[38;5;28mself\u001b[39m\u001b[38;5;241m.\u001b[39mtype_pprinters:\n\u001b[0;32m    393\u001b[0m         \u001b[38;5;66;03m# printer registered in self.type_pprinters\u001b[39;00m\n\u001b[1;32m--> 394\u001b[0m         \u001b[38;5;28;01mreturn\u001b[39;00m \u001b[38;5;28;43mself\u001b[39;49m\u001b[38;5;241;43m.\u001b[39;49m\u001b[43mtype_pprinters\u001b[49m\u001b[43m[\u001b[49m\u001b[38;5;28;43mcls\u001b[39;49m\u001b[43m]\u001b[49m\u001b[43m(\u001b[49m\u001b[43mobj\u001b[49m\u001b[43m,\u001b[49m\u001b[43m \u001b[49m\u001b[38;5;28;43mself\u001b[39;49m\u001b[43m,\u001b[49m\u001b[43m \u001b[49m\u001b[43mcycle\u001b[49m\u001b[43m)\u001b[49m\n\u001b[0;32m    395\u001b[0m     \u001b[38;5;28;01melse\u001b[39;00m:\n\u001b[0;32m    396\u001b[0m         \u001b[38;5;66;03m# deferred printer\u001b[39;00m\n\u001b[0;32m    397\u001b[0m         printer \u001b[38;5;241m=\u001b[39m \u001b[38;5;28mself\u001b[39m\u001b[38;5;241m.\u001b[39m_in_deferred_types(\u001b[38;5;28mcls\u001b[39m)\n",
      "File \u001b[1;32m~\\AppData\\Roaming\\Python\\Python310\\site-packages\\IPython\\lib\\pretty.py:701\u001b[0m, in \u001b[0;36m_dict_pprinter_factory.<locals>.inner\u001b[1;34m(obj, p, cycle)\u001b[0m\n\u001b[0;32m    699\u001b[0m     p\u001b[38;5;241m.\u001b[39mpretty(key)\n\u001b[0;32m    700\u001b[0m     p\u001b[38;5;241m.\u001b[39mtext(\u001b[38;5;124m'\u001b[39m\u001b[38;5;124m: \u001b[39m\u001b[38;5;124m'\u001b[39m)\n\u001b[1;32m--> 701\u001b[0m     \u001b[43mp\u001b[49m\u001b[38;5;241;43m.\u001b[39;49m\u001b[43mpretty\u001b[49m\u001b[43m(\u001b[49m\u001b[43mobj\u001b[49m\u001b[43m[\u001b[49m\u001b[43mkey\u001b[49m\u001b[43m]\u001b[49m\u001b[43m)\u001b[49m\n\u001b[0;32m    702\u001b[0m p\u001b[38;5;241m.\u001b[39mend_group(step, end)\n",
      "File \u001b[1;32m~\\AppData\\Roaming\\Python\\Python310\\site-packages\\IPython\\lib\\pretty.py:394\u001b[0m, in \u001b[0;36mRepresentationPrinter.pretty\u001b[1;34m(self, obj)\u001b[0m\n\u001b[0;32m    391\u001b[0m \u001b[38;5;28;01mfor\u001b[39;00m \u001b[38;5;28mcls\u001b[39m \u001b[38;5;129;01min\u001b[39;00m _get_mro(obj_class):\n\u001b[0;32m    392\u001b[0m     \u001b[38;5;28;01mif\u001b[39;00m \u001b[38;5;28mcls\u001b[39m \u001b[38;5;129;01min\u001b[39;00m \u001b[38;5;28mself\u001b[39m\u001b[38;5;241m.\u001b[39mtype_pprinters:\n\u001b[0;32m    393\u001b[0m         \u001b[38;5;66;03m# printer registered in self.type_pprinters\u001b[39;00m\n\u001b[1;32m--> 394\u001b[0m         \u001b[38;5;28;01mreturn\u001b[39;00m \u001b[38;5;28;43mself\u001b[39;49m\u001b[38;5;241;43m.\u001b[39;49m\u001b[43mtype_pprinters\u001b[49m\u001b[43m[\u001b[49m\u001b[38;5;28;43mcls\u001b[39;49m\u001b[43m]\u001b[49m\u001b[43m(\u001b[49m\u001b[43mobj\u001b[49m\u001b[43m,\u001b[49m\u001b[43m \u001b[49m\u001b[38;5;28;43mself\u001b[39;49m\u001b[43m,\u001b[49m\u001b[43m \u001b[49m\u001b[43mcycle\u001b[49m\u001b[43m)\u001b[49m\n\u001b[0;32m    395\u001b[0m     \u001b[38;5;28;01melse\u001b[39;00m:\n\u001b[0;32m    396\u001b[0m         \u001b[38;5;66;03m# deferred printer\u001b[39;00m\n\u001b[0;32m    397\u001b[0m         printer \u001b[38;5;241m=\u001b[39m \u001b[38;5;28mself\u001b[39m\u001b[38;5;241m.\u001b[39m_in_deferred_types(\u001b[38;5;28mcls\u001b[39m)\n",
      "File \u001b[1;32m~\\AppData\\Roaming\\Python\\Python310\\site-packages\\IPython\\lib\\pretty.py:701\u001b[0m, in \u001b[0;36m_dict_pprinter_factory.<locals>.inner\u001b[1;34m(obj, p, cycle)\u001b[0m\n\u001b[0;32m    699\u001b[0m     p\u001b[38;5;241m.\u001b[39mpretty(key)\n\u001b[0;32m    700\u001b[0m     p\u001b[38;5;241m.\u001b[39mtext(\u001b[38;5;124m'\u001b[39m\u001b[38;5;124m: \u001b[39m\u001b[38;5;124m'\u001b[39m)\n\u001b[1;32m--> 701\u001b[0m     \u001b[43mp\u001b[49m\u001b[38;5;241;43m.\u001b[39;49m\u001b[43mpretty\u001b[49m\u001b[43m(\u001b[49m\u001b[43mobj\u001b[49m\u001b[43m[\u001b[49m\u001b[43mkey\u001b[49m\u001b[43m]\u001b[49m\u001b[43m)\u001b[49m\n\u001b[0;32m    702\u001b[0m p\u001b[38;5;241m.\u001b[39mend_group(step, end)\n",
      "    \u001b[1;31m[... skipping similar frames: RepresentationPrinter.pretty at line 394 (1 times)]\u001b[0m\n",
      "File \u001b[1;32m~\\AppData\\Roaming\\Python\\Python310\\site-packages\\IPython\\lib\\pretty.py:649\u001b[0m, in \u001b[0;36m_seq_pprinter_factory.<locals>.inner\u001b[1;34m(obj, p, cycle)\u001b[0m\n\u001b[0;32m    647\u001b[0m         p\u001b[38;5;241m.\u001b[39mtext(\u001b[38;5;124m'\u001b[39m\u001b[38;5;124m,\u001b[39m\u001b[38;5;124m'\u001b[39m)\n\u001b[0;32m    648\u001b[0m         p\u001b[38;5;241m.\u001b[39mbreakable()\n\u001b[1;32m--> 649\u001b[0m     \u001b[43mp\u001b[49m\u001b[38;5;241;43m.\u001b[39;49m\u001b[43mpretty\u001b[49m\u001b[43m(\u001b[49m\u001b[43mx\u001b[49m\u001b[43m)\u001b[49m\n\u001b[0;32m    650\u001b[0m \u001b[38;5;28;01mif\u001b[39;00m \u001b[38;5;28mlen\u001b[39m(obj) \u001b[38;5;241m==\u001b[39m \u001b[38;5;241m1\u001b[39m \u001b[38;5;129;01mand\u001b[39;00m \u001b[38;5;28misinstance\u001b[39m(obj, \u001b[38;5;28mtuple\u001b[39m):\n\u001b[0;32m    651\u001b[0m     \u001b[38;5;66;03m# Special case for 1-item tuples.\u001b[39;00m\n\u001b[0;32m    652\u001b[0m     p\u001b[38;5;241m.\u001b[39mtext(\u001b[38;5;124m'\u001b[39m\u001b[38;5;124m,\u001b[39m\u001b[38;5;124m'\u001b[39m)\n",
      "    \u001b[1;31m[... skipping similar frames: RepresentationPrinter.pretty at line 394 (3 times), _dict_pprinter_factory.<locals>.inner at line 701 (2 times)]\u001b[0m\n",
      "File \u001b[1;32m~\\AppData\\Roaming\\Python\\Python310\\site-packages\\IPython\\lib\\pretty.py:701\u001b[0m, in \u001b[0;36m_dict_pprinter_factory.<locals>.inner\u001b[1;34m(obj, p, cycle)\u001b[0m\n\u001b[0;32m    699\u001b[0m     p\u001b[38;5;241m.\u001b[39mpretty(key)\n\u001b[0;32m    700\u001b[0m     p\u001b[38;5;241m.\u001b[39mtext(\u001b[38;5;124m'\u001b[39m\u001b[38;5;124m: \u001b[39m\u001b[38;5;124m'\u001b[39m)\n\u001b[1;32m--> 701\u001b[0m     \u001b[43mp\u001b[49m\u001b[38;5;241;43m.\u001b[39;49m\u001b[43mpretty\u001b[49m\u001b[43m(\u001b[49m\u001b[43mobj\u001b[49m\u001b[43m[\u001b[49m\u001b[43mkey\u001b[49m\u001b[43m]\u001b[49m\u001b[43m)\u001b[49m\n\u001b[0;32m    702\u001b[0m p\u001b[38;5;241m.\u001b[39mend_group(step, end)\n",
      "    \u001b[1;31m[... skipping similar frames: RepresentationPrinter.pretty at line 394 (1 times)]\u001b[0m\n",
      "File \u001b[1;32m~\\AppData\\Roaming\\Python\\Python310\\site-packages\\IPython\\lib\\pretty.py:649\u001b[0m, in \u001b[0;36m_seq_pprinter_factory.<locals>.inner\u001b[1;34m(obj, p, cycle)\u001b[0m\n\u001b[0;32m    647\u001b[0m         p\u001b[38;5;241m.\u001b[39mtext(\u001b[38;5;124m'\u001b[39m\u001b[38;5;124m,\u001b[39m\u001b[38;5;124m'\u001b[39m)\n\u001b[0;32m    648\u001b[0m         p\u001b[38;5;241m.\u001b[39mbreakable()\n\u001b[1;32m--> 649\u001b[0m     \u001b[43mp\u001b[49m\u001b[38;5;241;43m.\u001b[39;49m\u001b[43mpretty\u001b[49m\u001b[43m(\u001b[49m\u001b[43mx\u001b[49m\u001b[43m)\u001b[49m\n\u001b[0;32m    650\u001b[0m \u001b[38;5;28;01mif\u001b[39;00m \u001b[38;5;28mlen\u001b[39m(obj) \u001b[38;5;241m==\u001b[39m \u001b[38;5;241m1\u001b[39m \u001b[38;5;129;01mand\u001b[39;00m \u001b[38;5;28misinstance\u001b[39m(obj, \u001b[38;5;28mtuple\u001b[39m):\n\u001b[0;32m    651\u001b[0m     \u001b[38;5;66;03m# Special case for 1-item tuples.\u001b[39;00m\n\u001b[0;32m    652\u001b[0m     p\u001b[38;5;241m.\u001b[39mtext(\u001b[38;5;124m'\u001b[39m\u001b[38;5;124m,\u001b[39m\u001b[38;5;124m'\u001b[39m)\n",
      "    \u001b[1;31m[... skipping similar frames: RepresentationPrinter.pretty at line 394 (2 times), _seq_pprinter_factory.<locals>.inner at line 649 (1 times)]\u001b[0m\n",
      "File \u001b[1;32m~\\AppData\\Roaming\\Python\\Python310\\site-packages\\IPython\\lib\\pretty.py:649\u001b[0m, in \u001b[0;36m_seq_pprinter_factory.<locals>.inner\u001b[1;34m(obj, p, cycle)\u001b[0m\n\u001b[0;32m    647\u001b[0m         p\u001b[38;5;241m.\u001b[39mtext(\u001b[38;5;124m'\u001b[39m\u001b[38;5;124m,\u001b[39m\u001b[38;5;124m'\u001b[39m)\n\u001b[0;32m    648\u001b[0m         p\u001b[38;5;241m.\u001b[39mbreakable()\n\u001b[1;32m--> 649\u001b[0m     \u001b[43mp\u001b[49m\u001b[38;5;241;43m.\u001b[39;49m\u001b[43mpretty\u001b[49m\u001b[43m(\u001b[49m\u001b[43mx\u001b[49m\u001b[43m)\u001b[49m\n\u001b[0;32m    650\u001b[0m \u001b[38;5;28;01mif\u001b[39;00m \u001b[38;5;28mlen\u001b[39m(obj) \u001b[38;5;241m==\u001b[39m \u001b[38;5;241m1\u001b[39m \u001b[38;5;129;01mand\u001b[39;00m \u001b[38;5;28misinstance\u001b[39m(obj, \u001b[38;5;28mtuple\u001b[39m):\n\u001b[0;32m    651\u001b[0m     \u001b[38;5;66;03m# Special case for 1-item tuples.\u001b[39;00m\n\u001b[0;32m    652\u001b[0m     p\u001b[38;5;241m.\u001b[39mtext(\u001b[38;5;124m'\u001b[39m\u001b[38;5;124m,\u001b[39m\u001b[38;5;124m'\u001b[39m)\n",
      "File \u001b[1;32m~\\AppData\\Roaming\\Python\\Python310\\site-packages\\IPython\\lib\\pretty.py:394\u001b[0m, in \u001b[0;36mRepresentationPrinter.pretty\u001b[1;34m(self, obj)\u001b[0m\n\u001b[0;32m    391\u001b[0m \u001b[38;5;28;01mfor\u001b[39;00m \u001b[38;5;28mcls\u001b[39m \u001b[38;5;129;01min\u001b[39;00m _get_mro(obj_class):\n\u001b[0;32m    392\u001b[0m     \u001b[38;5;28;01mif\u001b[39;00m \u001b[38;5;28mcls\u001b[39m \u001b[38;5;129;01min\u001b[39;00m \u001b[38;5;28mself\u001b[39m\u001b[38;5;241m.\u001b[39mtype_pprinters:\n\u001b[0;32m    393\u001b[0m         \u001b[38;5;66;03m# printer registered in self.type_pprinters\u001b[39;00m\n\u001b[1;32m--> 394\u001b[0m         \u001b[38;5;28;01mreturn\u001b[39;00m \u001b[38;5;28;43mself\u001b[39;49m\u001b[38;5;241;43m.\u001b[39;49m\u001b[43mtype_pprinters\u001b[49m\u001b[43m[\u001b[49m\u001b[38;5;28;43mcls\u001b[39;49m\u001b[43m]\u001b[49m\u001b[43m(\u001b[49m\u001b[43mobj\u001b[49m\u001b[43m,\u001b[49m\u001b[43m \u001b[49m\u001b[38;5;28;43mself\u001b[39;49m\u001b[43m,\u001b[49m\u001b[43m \u001b[49m\u001b[43mcycle\u001b[49m\u001b[43m)\u001b[49m\n\u001b[0;32m    395\u001b[0m     \u001b[38;5;28;01melse\u001b[39;00m:\n\u001b[0;32m    396\u001b[0m         \u001b[38;5;66;03m# deferred printer\u001b[39;00m\n\u001b[0;32m    397\u001b[0m         printer \u001b[38;5;241m=\u001b[39m \u001b[38;5;28mself\u001b[39m\u001b[38;5;241m.\u001b[39m_in_deferred_types(\u001b[38;5;28mcls\u001b[39m)\n",
      "File \u001b[1;32m~\\AppData\\Roaming\\Python\\Python310\\site-packages\\IPython\\lib\\pretty.py:796\u001b[0m, in \u001b[0;36m_repr_pprint\u001b[1;34m(obj, p, cycle)\u001b[0m\n\u001b[0;32m    794\u001b[0m output \u001b[38;5;241m=\u001b[39m \u001b[38;5;28mrepr\u001b[39m(obj)\n\u001b[0;32m    795\u001b[0m lines \u001b[38;5;241m=\u001b[39m output\u001b[38;5;241m.\u001b[39msplitlines()\n\u001b[1;32m--> 796\u001b[0m \u001b[38;5;28;01mwith\u001b[39;00m p\u001b[38;5;241m.\u001b[39mgroup():\n\u001b[0;32m    797\u001b[0m     \u001b[38;5;28;01mfor\u001b[39;00m idx, output_line \u001b[38;5;129;01min\u001b[39;00m \u001b[38;5;28menumerate\u001b[39m(lines):\n\u001b[0;32m    798\u001b[0m         \u001b[38;5;28;01mif\u001b[39;00m idx:\n",
      "File \u001b[1;32mc:\\Users\\localadmin\\AppData\\Local\\Programs\\Python\\Python310\\lib\\contextlib.py:130\u001b[0m, in \u001b[0;36m_GeneratorContextManager.__enter__\u001b[1;34m(self)\u001b[0m\n\u001b[0;32m    123\u001b[0m \u001b[38;5;28;01mclass\u001b[39;00m\u001b[38;5;250m \u001b[39m\u001b[38;5;21;01m_GeneratorContextManager\u001b[39;00m(\n\u001b[0;32m    124\u001b[0m     _GeneratorContextManagerBase,\n\u001b[0;32m    125\u001b[0m     AbstractContextManager,\n\u001b[0;32m    126\u001b[0m     ContextDecorator,\n\u001b[0;32m    127\u001b[0m ):\n\u001b[0;32m    128\u001b[0m \u001b[38;5;250m    \u001b[39m\u001b[38;5;124;03m\"\"\"Helper for @contextmanager decorator.\"\"\"\u001b[39;00m\n\u001b[1;32m--> 130\u001b[0m     \u001b[38;5;28;01mdef\u001b[39;00m\u001b[38;5;250m \u001b[39m\u001b[38;5;21m__enter__\u001b[39m(\u001b[38;5;28mself\u001b[39m):\n\u001b[0;32m    131\u001b[0m         \u001b[38;5;66;03m# do not keep args and kwds alive unnecessarily\u001b[39;00m\n\u001b[0;32m    132\u001b[0m         \u001b[38;5;66;03m# they are only needed for recreation, which is not possible anymore\u001b[39;00m\n\u001b[0;32m    133\u001b[0m         \u001b[38;5;28;01mdel\u001b[39;00m \u001b[38;5;28mself\u001b[39m\u001b[38;5;241m.\u001b[39margs, \u001b[38;5;28mself\u001b[39m\u001b[38;5;241m.\u001b[39mkwds, \u001b[38;5;28mself\u001b[39m\u001b[38;5;241m.\u001b[39mfunc\n\u001b[0;32m    134\u001b[0m         \u001b[38;5;28;01mtry\u001b[39;00m:\n",
      "File \u001b[1;32m_pydevd_bundle\\\\pydevd_cython.pyx:1697\u001b[0m, in \u001b[0;36m_pydevd_bundle.pydevd_cython.SafeCallWrapper.__call__\u001b[1;34m()\u001b[0m\n",
      "File \u001b[1;32m_pydevd_bundle\\\\pydevd_cython.pyx:2017\u001b[0m, in \u001b[0;36m_pydevd_bundle.pydevd_cython.ThreadTracer.__call__\u001b[1;34m()\u001b[0m\n",
      "File \u001b[1;32m~\\AppData\\Roaming\\Python\\Python310\\site-packages\\debugpy\\_vendored\\pydevd\\_pydev_bundle\\pydev_is_thread_alive.py:16\u001b[0m, in \u001b[0;36mis_thread_alive\u001b[1;34m(t)\u001b[0m\n\u001b[0;32m     11\u001b[0m         \u001b[38;5;28;01mreturn\u001b[39;00m \u001b[38;5;129;01mnot\u001b[39;00m t\u001b[38;5;241m.\u001b[39m_handle\u001b[38;5;241m.\u001b[39mis_done()\n\u001b[0;32m     14\u001b[0m \u001b[38;5;28;01melif\u001b[39;00m \u001b[38;5;28mhasattr\u001b[39m(_temp, \u001b[38;5;124m\"\u001b[39m\u001b[38;5;124m_is_stopped\u001b[39m\u001b[38;5;124m\"\u001b[39m):  \u001b[38;5;66;03m# Python 3.12 and earlier has this\u001b[39;00m\n\u001b[1;32m---> 16\u001b[0m     \u001b[38;5;28;01mdef\u001b[39;00m\u001b[38;5;250m \u001b[39m\u001b[38;5;21mis_thread_alive\u001b[39m(t):\n\u001b[0;32m     17\u001b[0m         \u001b[38;5;28;01mreturn\u001b[39;00m \u001b[38;5;129;01mnot\u001b[39;00m t\u001b[38;5;241m.\u001b[39m_is_stopped\n\u001b[0;32m     19\u001b[0m \u001b[38;5;28;01melif\u001b[39;00m \u001b[38;5;28mhasattr\u001b[39m(_temp, \u001b[38;5;124m\"\u001b[39m\u001b[38;5;124m_Thread__stopped\u001b[39m\u001b[38;5;124m\"\u001b[39m):  \u001b[38;5;66;03m# Python 2.x has this\u001b[39;00m\n",
      "\u001b[1;31mKeyboardInterrupt\u001b[0m: "
     ]
    }
   ],
   "source": [
    "w"
   ]
  },
  {
   "cell_type": "code",
   "execution_count": 44,
   "metadata": {},
   "outputs": [],
   "source": [
    "best_w = dict()\n",
    "best_n = dict()\n",
    "for key in w:\n",
    "    if key not in best_w:\n",
    "        best_w[key] = {'f': float('inf')}\n",
    "    if key not in best_n:\n",
    "        best_n[key] = {'f': float('inf')}\n",
    "    a = 0\n",
    "    at = 0\n",
    "    af = 0\n",
    "    for run in w[key]['results']:\n",
    "        f = run['Result']['Fitness']['Makespan']\n",
    "        a += f\n",
    "        at += run['Result']['TimeInSeconds']\n",
    "        af += run['Result']['FunctionEvaluations']\n",
    "        if f < best_w[key]['f']:\n",
    "            best_w[key]['f'] = f\n",
    "    a /= len(w[key]['results'])\n",
    "    at /= len(w[key]['results'])\n",
    "    af /= len(w[key]['results'])\n",
    "    best_w[key]['a'] = a\n",
    "    best_w[key]['at'] = at\n",
    "    best_w[key]['af'] = af\n",
    "    a = 0\n",
    "    for run in n[key]['results']:\n",
    "        f = run['Result']['Fitness']['Makespan']\n",
    "        a += f\n",
    "        at += run['Result']['TimeInSeconds']\n",
    "        af += run['Result']['FunctionEvaluations']\n",
    "        if f < best_n[key]['f']:\n",
    "            best_n[key]['f'] = f\n",
    "    a /= len(n[key]['results'])\n",
    "    at /= len(w[key]['results'])\n",
    "    af /= len(w[key]['results'])\n",
    "    best_n[key]['at'] = at\n",
    "    best_n[key]['af'] = af\n",
    "    best_n[key]['a'] = a"
   ]
  },
  {
   "cell_type": "code",
   "execution_count": 30,
   "metadata": {},
   "outputs": [],
   "source": [
    "f = dict()\n",
    "a = dict()\n",
    "for key in best_w:\n",
    "    if best_w[key]['f'] == best_n[key]['f']:\n",
    "        f[key] = 'TIE'\n",
    "    elif best_w[key]['f'] < best_n[key]['f']:\n",
    "        f[key] = 'WITH'\n",
    "    else:\n",
    "        f[key] = 'WITHOUT'\n",
    "    if best_w[key]['a'] == best_n[key]['a']:\n",
    "        a[key] = 'TIE'\n",
    "    elif best_w[key]['a'] < best_n[key]['a']:\n",
    "        a[key] = 'WITH'\n",
    "    else:\n",
    "        a[key] = 'WITHOUT'\n"
   ]
  },
  {
   "cell_type": "code",
   "execution_count": 33,
   "metadata": {},
   "outputs": [],
   "source": [
    "cn = sum([1 for x in f if f[x] == 'WITHOUT'])\n",
    "cw = sum([1 for x in f if f[x] == 'WITH'])\n",
    "ct = sum([1 for x in f if f[x] == 'TIE'])"
   ]
  },
  {
   "cell_type": "code",
   "execution_count": 37,
   "metadata": {},
   "outputs": [
    {
     "data": {
      "text/plain": [
       "0.8"
      ]
     },
     "execution_count": 37,
     "metadata": {},
     "output_type": "execute_result"
    }
   ],
   "source": [
    "cn/len(f)"
   ]
  },
  {
   "cell_type": "code",
   "execution_count": 38,
   "metadata": {},
   "outputs": [
    {
     "data": {
      "text/plain": [
       "0.06666666666666667"
      ]
     },
     "execution_count": 38,
     "metadata": {},
     "output_type": "execute_result"
    }
   ],
   "source": [
    "cw/len(f)"
   ]
  },
  {
   "cell_type": "code",
   "execution_count": 39,
   "metadata": {},
   "outputs": [
    {
     "data": {
      "text/plain": [
       "0.13333333333333333"
      ]
     },
     "execution_count": 39,
     "metadata": {},
     "output_type": "execute_result"
    }
   ],
   "source": [
    "ct/len(f)"
   ]
  },
  {
   "cell_type": "code",
   "execution_count": 40,
   "metadata": {},
   "outputs": [],
   "source": [
    "cn = sum([1 for x in a if a[x] == 'WITHOUT'])\n",
    "cw = sum([1 for x in a if a[x] == 'WITH'])\n",
    "ct = sum([1 for x in a if a[x] == 'TIE'])"
   ]
  },
  {
   "cell_type": "code",
   "execution_count": 41,
   "metadata": {},
   "outputs": [
    {
     "data": {
      "text/plain": [
       "0.9"
      ]
     },
     "execution_count": 41,
     "metadata": {},
     "output_type": "execute_result"
    }
   ],
   "source": [
    "cn/len(f)"
   ]
  },
  {
   "cell_type": "code",
   "execution_count": 42,
   "metadata": {},
   "outputs": [
    {
     "data": {
      "text/plain": [
       "0.03333333333333333"
      ]
     },
     "execution_count": 42,
     "metadata": {},
     "output_type": "execute_result"
    }
   ],
   "source": [
    "cw/len(f)"
   ]
  },
  {
   "cell_type": "code",
   "execution_count": 43,
   "metadata": {},
   "outputs": [
    {
     "data": {
      "text/plain": [
       "0.06666666666666667"
      ]
     },
     "execution_count": 43,
     "metadata": {},
     "output_type": "execute_result"
    }
   ],
   "source": [
    "ct/len(f)"
   ]
  },
  {
   "cell_type": "code",
   "execution_count": 46,
   "metadata": {},
   "outputs": [
    {
     "name": "stdout",
     "output_type": "stream",
     "text": [
      "BehnkeGeiger42: DT:-50.31042563055547 | DF:-1010279.4444444445\n",
      "BehnkeGeiger46: DT:-66.36437414722218 | DF:-747433.8888888888\n",
      "BehnkeGeiger60: DT:-55.11204762777783 | DF:-308761.1111111111\n",
      "Brandimarte12: DT:-68.96744171944437 | DF:-515086.66666666674\n",
      "Brandimarte14: DT:-51.22928195000003 | DF:-340129.4444444444\n",
      "Brandimarte7: DT:-64.4832863833334 | DF:-763646.1111111112\n",
      "Hurinksdata18: DT:-48.61956999444436 | DF:-1222315.0\n",
      "Hurinksdata1: DT:77.58257864999999 | DF:991378.8888888889\n",
      "Hurinksdata38: DT:-53.752032169444476 | DF:-973187.7777777776\n",
      "Hurinksdata40: DT:-55.519813161111074 | DF:-1396705.0\n",
      "Hurinksdata54: DT:-52.18845829444439 | DF:-1711205.5555555555\n",
      "Hurinksdata61: DT:-50.76826946388894 | DF:-1967085.5555555555\n",
      "Hurinksdata63: DT:-52.97513885277772 | DF:-1847122.2222222225\n",
      "Hurinkedata1: DT:7.142156997222223 | DF:97743.88888888889\n",
      "Hurinkedata6: DT:-48.90001438611114 | DF:-1273575.0\n",
      "Hurinkrdata28: DT:-50.97003745000001 | DF:-1044930.5555555553\n",
      "Hurinkrdata38: DT:-97.1230064944445 | DF:-299219.44444444444\n",
      "Hurinkrdata50: DT:-53.698848594444485 | DF:-1049710.555555556\n",
      "Hurinkvdata18: DT:-48.38209736111105 | DF:-917949.4444444447\n",
      "Hurinkvdata30: DT:-59.17847785555557 | DF:-326924.4444444444\n",
      "Hurinkvdata5: DT:-46.51672235277778 | DF:-955863.3333333335\n",
      "DPpaulli15: DT:-136.13432651666665 | DF:-217861.11111111118\n",
      "DPpaulli18: DT:-137.53789629722223 | DF:-219668.33333333337\n",
      "DPpaulli1: DT:-71.38937505555555 | DF:-1048590.0\n",
      "DPpaulli9: DT:-103.21857574166665 | DF:-372787.7777777778\n",
      "ChambersBarnes10: DT:-50.72411183611109 | DF:-1618996.1111111112\n",
      "Kacem3: DT:1.355764180555557 | DF:-3695.555555555591\n",
      "Kacem4: DT:-51.18737091388891 | DF:-1068001.666666667\n",
      "Fattahi14: DT:-50.77101167777778 | DF:-1394015.0\n",
      "Fattahi20: DT:-53.57896586388887 | DF:-916833.333333333\n",
      "ADT: -54.78401593212963\n",
      "ADF: -814748.5555555556\n",
      "ADFP: 0.740769276154827\n"
     ]
    }
   ],
   "source": [
    "adt = 0\n",
    "adf = 0\n",
    "adfp = 0\n",
    "for key in best_w:\n",
    "    dt = best_w[key]['at'] - best_n[key]['at']\n",
    "    df = best_w[key]['af'] - best_n[key]['af']\n",
    "    adt += dt\n",
    "    adf += df\n",
    "    adfp += best_w[key]['af']/best_n[key]['af']\n",
    "    print(f'{key}: DT:{dt} | DF:{df}')\n",
    "adt /= len(best_w)\n",
    "adf /= len(best_w)\n",
    "adfp /= len(best_w)\n",
    "print(f'ADT: {adt}')\n",
    "print(f'ADF: {adf}')\n",
    "print(f'ADFP: {adfp}')\n"
   ]
  }
 ],
 "metadata": {
  "kernelspec": {
   "display_name": "Python 3",
   "language": "python",
   "name": "python3"
  },
  "language_info": {
   "codemirror_mode": {
    "name": "ipython",
    "version": 3
   },
   "file_extension": ".py",
   "mimetype": "text/x-python",
   "name": "python",
   "nbconvert_exporter": "python",
   "pygments_lexer": "ipython3",
   "version": "3.10.9"
  }
 },
 "nbformat": 4,
 "nbformat_minor": 2
}
